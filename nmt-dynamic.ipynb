{
 "cells": [
  {
   "cell_type": "code",
   "execution_count": 2,
   "metadata": {
    "execution": {
     "iopub.execute_input": "2025-07-06T15:20:14.710365Z",
     "iopub.status.busy": "2025-07-06T15:20:14.709798Z",
     "iopub.status.idle": "2025-07-06T15:20:14.715087Z",
     "shell.execute_reply": "2025-07-06T15:20:14.714336Z",
     "shell.execute_reply.started": "2025-07-06T15:20:14.710337Z"
    }
   },
   "outputs": [],
   "source": [
    "from tqdm import tqdm\n",
    "\n",
    "import glob, os\n",
    "import numpy as np\n",
    "import torch\n",
    "\n",
    "from IPython.display import clear_output\n",
    "\n",
    "DEVICE = torch.device(\"cuda\") #torch.device(\"mps\")\n",
    "BATCH_SIZE = 32\n",
    "NUM_WINDOWS = 100"
   ]
  },
  {
   "cell_type": "code",
   "execution_count": 3,
   "metadata": {
    "execution": {
     "iopub.execute_input": "2025-07-06T15:20:14.716267Z",
     "iopub.status.busy": "2025-07-06T15:20:14.715986Z",
     "iopub.status.idle": "2025-07-06T15:20:17.911171Z",
     "shell.execute_reply": "2025-07-06T15:20:17.910333Z",
     "shell.execute_reply.started": "2025-07-06T15:20:14.716243Z"
    }
   },
   "outputs": [],
   "source": [
    "#!/usr/bin/env python3\n",
    "# -*- coding: utf-8 -*-\n",
    "\"\"\"\n",
    "Created on Thu Jan 30 07:34:26 2025\n",
    "\n",
    "@author: mohamedr\n",
    "\"\"\"\n",
    "\n",
    "import scipy.sparse as sp\n",
    "import numpy as np\n",
    "\n",
    "from torch_geometric.data import Data\n",
    "import torch\n",
    "from torch_geometric.utils import dense_to_sparse\n",
    "from sklearn.preprocessing import StandardScaler\n",
    "from sklearn.base import TransformerMixin,BaseEstimator\n",
    "\n",
    "def norm_adj(train_graphs, test_graphs):\n",
    "    for i in range(train_graphs.shape[0]):\n",
    "        for j in range(train_graphs.shape[1]):\n",
    "            min_ = (train_graphs[i, j, :, :]).min()\n",
    "            max_ = (train_graphs[i, j, :, :]).max()\n",
    "            train_graphs[i, j, :,  :] = (train_graphs[i, j, :,  :] - min_)/(max_ - min_)\n",
    "                \n",
    "    for i in range(test_graphs.shape[0]):\n",
    "        for j in range(test_graphs.shape[1]):\n",
    "            min_ = (test_graphs[i, j, :, :]).min()\n",
    "            max_ = (test_graphs[i, j, :, :]).max()\n",
    "            test_graphs[i, j, :, :] = (test_graphs[i, j, :,  :] - min_)/(max_ - min_)\n",
    "            \n",
    "    return train_graphs, test_graphs\n",
    "\n",
    "\n",
    "\n",
    "def preprocess_adj(adj):\n",
    "    \"\"\"Preprocessing of adjacency matrix for simple GCN model \n",
    "    and conversion to tuple representation.\"\"\"\n",
    "    adj_normalized = normalize_adj(adj + sp.eye(adj.shape[0])).toarray()\n",
    "    return adj_normalized\n",
    "\n",
    "def normalize_all_adj(graphs):\n",
    "    for graph_idx in range(graphs.shape[0]):\n",
    "        for band_idx in range(graphs.shape[-1]):\n",
    "            graphs[graph_idx, :, :, band_idx] = preprocess_adj(graphs[graph_idx, :, :, band_idx])\n",
    "    return graphs\n",
    "\n",
    "\n",
    "def build_pyg_dl(x, a, y, time_points, device):\n",
    "    \"\"\"Convert features and adjacency to PyTorch Geometric Dataloader\"\"\"\n",
    "    a = torch.from_numpy(a)\n",
    "    a = a + 1e-10 \n",
    "    edge_attr = []\n",
    "    \n",
    "    for edge_time_idx in range(time_points):\n",
    "        Af = a[edge_time_idx, :, :]\n",
    "        Af.fill_diagonal_(1)\n",
    "        edge_index, attrf = dense_to_sparse(Af)\n",
    "        edge_attr.append(attrf)\n",
    "    \n",
    "    edge_attr = torch.stack(edge_attr)\n",
    "    edge_attr = torch.moveaxis(edge_attr, 0, 1).to(device)\n",
    "    edge_index = edge_index.to(device)\n",
    "    x = torch.from_numpy(x).to(device)\n",
    "    y = torch.tensor([y], dtype=torch.float).to(device)\n",
    "    data = Data(x=x, edge_index=edge_index, \n",
    "                edge_attr=edge_attr, \n",
    "                y=y)\n",
    "    return data\n",
    "\n",
    "\n",
    "#https://stackoverflow.com/questions/50125844/how-to-standard-scale-a-3d-matrix\n",
    "class StandardScaler3D(BaseEstimator,TransformerMixin):\n",
    "    #batch, sequence, channels\n",
    "    def __init__(self):\n",
    "        self.scaler = StandardScaler()\n",
    "\n",
    "    def fit(self,X,y=None):\n",
    "        X = X.reshape(-1, X.shape[1]*X.shape[3])\n",
    "        self.scaler.fit(X)\n",
    "        return self\n",
    "\n",
    "    def transform(self,X):\n",
    "        return self.scaler.transform(X.reshape(-1, X.shape[1]*X.shape[3])).reshape(X.shape)\n",
    "        \n",
    "def std_data(train_X, val_X):\n",
    "    scaler = StandardScaler3D()\n",
    "    train_X = scaler.fit_transform(train_X)\n",
    "    val_X = scaler.transform(val_X)\n",
    "    return train_X, val_X\n",
    "\n",
    "\n",
    "def fill_diag(x):\n",
    "    num_channels = x.shape[1]\n",
    "    num_bands = x.shape[0]\n",
    "    x_diag = np.zeros((num_bands, num_channels, num_channels))\n",
    "    for band_idx, band in enumerate(x):\n",
    "        for idx, i in enumerate(band):\n",
    "            x_diag[band_idx, idx, idx] = 0\n",
    "            if idx == 0:\n",
    "                x_diag[band_idx, idx, 1:] = i\n",
    "            elif idx > 0 and idx < num_channels-1:\n",
    "                x_diag[band_idx, idx, idx+1:] = i[idx:]\n",
    "                x_diag[band_idx, idx, :idx] = i[:idx]\n",
    "            elif idx == num_channels-1:\n",
    "                x_diag[band_idx, idx, :-1] = i\n",
    "    return x_diag\n",
    "\n",
    "\n",
    "import torch, gc\n",
    "from torch_geometric.loader import DataLoader\n",
    "import random\n",
    "from sklearn.model_selection import KFold    \n",
    "from sklearn.preprocessing import OneHotEncoder\n",
    "\n",
    "\n",
    "def loaders(train_X, train_graphs, train_y, test_X, test_graphs, test_y, device, batch_size, num_windows):\n",
    "    #ohe\n",
    "    ohe = OneHotEncoder()\n",
    "    train_y_ohe = ohe.fit_transform(train_y).toarray()\n",
    "    test_y_ohe = ohe.transform(test_y).toarray()\n",
    "    \n",
    "    # build pyg dataloader\n",
    "    train_dataset = [build_pyg_dl(x, g, y, num_windows, device) for x, g, y in zip(train_X, train_graphs, train_y_ohe)]\n",
    "    test_dataset = [build_pyg_dl(x, g, y, num_windows, device) for x, g, y in zip(test_X, test_graphs, test_y_ohe)]\n",
    "    train_iter = DataLoader(train_dataset, batch_size=batch_size, shuffle=True)\n",
    "    test_iter = DataLoader(test_dataset, batch_size=batch_size, shuffle=False)\n",
    "\n",
    "    return train_iter, test_iter"
   ]
  },
  {
   "cell_type": "code",
   "execution_count": 4,
   "metadata": {
    "execution": {
     "iopub.execute_input": "2025-07-06T15:20:17.912832Z",
     "iopub.status.busy": "2025-07-06T15:20:17.912457Z",
     "iopub.status.idle": "2025-07-06T15:20:17.938439Z",
     "shell.execute_reply": "2025-07-06T15:20:17.937815Z",
     "shell.execute_reply.started": "2025-07-06T15:20:17.912813Z"
    }
   },
   "outputs": [],
   "source": [
    "import torch\n",
    "#from .temporalgcn import TGCN\n",
    "#from .temporalgcn import TGCN2\n",
    "from torch_geometric.nn import GCNConv\n",
    "from torch_geometric_temporal.nn.recurrent import TGCN\n",
    "\n",
    "\n",
    "class A3TGCN(torch.nn.Module):\n",
    "    r\"\"\"An implementation of the Attention Temporal Graph Convolutional Cell.\n",
    "    For details see this paper: `\"A3T-GCN: Attention Temporal Graph Convolutional\n",
    "    Network for Traffic Forecasting.\" <https://arxiv.org/abs/2006.11583>`_\n",
    "\n",
    "    Args:\n",
    "        in_channels (int): Number of input features.\n",
    "        out_channels (int): Number of output features.\n",
    "        periods (int): Number of time periods.\n",
    "        improved (bool): Stronger self loops (default :obj:`False`).\n",
    "        cached (bool): Caching the message weights (default :obj:`False`).\n",
    "        add_self_loops (bool): Adding self-loops for smoothing (default :obj:`True`).\n",
    "    \"\"\"\n",
    "\n",
    "    def __init__(\n",
    "        self,\n",
    "        in_channels: int,\n",
    "        out_channels: int,\n",
    "        periods: int,\n",
    "        improved: bool = False,\n",
    "        cached: bool = False,\n",
    "        add_self_loops: bool = True\n",
    "    ):\n",
    "        super(A3TGCN, self).__init__()\n",
    "\n",
    "        self.in_channels = in_channels\n",
    "        self.out_channels = out_channels\n",
    "        self.periods = periods\n",
    "        self.improved = improved\n",
    "        self.cached = cached\n",
    "        self.add_self_loops = add_self_loops\n",
    "        self._setup_layers()\n",
    "\n",
    "    def _setup_layers(self):\n",
    "        self._base_tgcn = TGCN(\n",
    "            in_channels=self.in_channels,\n",
    "            out_channels=self.out_channels,\n",
    "            improved=self.improved,\n",
    "            cached=self.cached,\n",
    "            add_self_loops=self.add_self_loops,\n",
    "        )\n",
    "        device = torch.device('cuda' if torch.cuda.is_available() else 'cpu')\n",
    "        self._attention = torch.nn.Parameter(torch.empty(self.periods, device=device))\n",
    "        torch.nn.init.uniform_(self._attention)\n",
    "\n",
    "    def forward(\n",
    "        self,\n",
    "        X: torch.FloatTensor,\n",
    "        edge_index: torch.LongTensor,\n",
    "        edge_weight: torch.FloatTensor = None,\n",
    "        H: torch.FloatTensor = None,\n",
    "    ) -> torch.FloatTensor:\n",
    "        \"\"\"\n",
    "        Making a forward pass. If edge weights are not present the forward pass\n",
    "        defaults to an unweighted graph. If the hidden state matrix is not present\n",
    "        when the forward pass is called it is initialized with zeros.\n",
    "\n",
    "        Arg types:\n",
    "            * **X** (PyTorch Float Tensor): Node features for T time periods.\n",
    "            * **edge_index** (PyTorch Long Tensor): Graph edge indices.\n",
    "            * **edge_weight** (PyTorch Long Tensor, optional)*: Edge weight vector.\n",
    "            * **H** (PyTorch Float Tensor, optional): Hidden state matrix for all nodes.\n",
    "\n",
    "        Return types:\n",
    "            * **H** (PyTorch Float Tensor): Hidden state matrix for all nodes.\n",
    "        \"\"\"\n",
    "        H_accum = 0\n",
    "        probs = torch.nn.functional.softmax(self._attention, dim=0)\n",
    "        for period in range(self.periods):\n",
    "            Xt = X[:, period, :]\n",
    "            edge_weight_t = edge_weight[:, period]\n",
    "            H_accum = H_accum + probs[period] * self._base_tgcn(Xt, edge_index, edge_weight_t, H)\n",
    "            \n",
    "        return H_accum"
   ]
  },
  {
   "cell_type": "code",
   "execution_count": 5,
   "metadata": {
    "execution": {
     "iopub.execute_input": "2025-07-06T15:20:17.940258Z",
     "iopub.status.busy": "2025-07-06T15:20:17.940075Z",
     "iopub.status.idle": "2025-07-06T15:20:17.952613Z",
     "shell.execute_reply": "2025-07-06T15:20:17.951871Z",
     "shell.execute_reply.started": "2025-07-06T15:20:17.940243Z"
    }
   },
   "outputs": [],
   "source": [
    "import torch\n",
    "from torch_geometric.nn import GCNConv\n",
    "\n",
    "\n",
    "class TGCN(torch.nn.Module):\n",
    "    r\"\"\"An implementation of the Temporal Graph Convolutional Gated Recurrent Cell.\n",
    "    For details see this paper: `\"T-GCN: A Temporal Graph ConvolutionalNetwork for\n",
    "    Traffic Prediction.\" <https://arxiv.org/abs/1811.05320>`_\n",
    "\n",
    "    Args:\n",
    "        in_channels (int): Number of input features.\n",
    "        out_channels (int): Number of output features.\n",
    "        improved (bool): Stronger self loops. Default is False.\n",
    "        cached (bool): Caching the message weights. Default is False.\n",
    "        add_self_loops (bool): Adding self-loops for smoothing. Default is True.\n",
    "    \"\"\"\n",
    "\n",
    "    def __init__(\n",
    "        self,\n",
    "        in_channels: int,\n",
    "        out_channels: int,\n",
    "        improved: bool = False,\n",
    "        cached: bool = False,\n",
    "        add_self_loops: bool = True,\n",
    "    ):\n",
    "        super(TGCN, self).__init__()\n",
    "\n",
    "        self.in_channels = in_channels\n",
    "        self.out_channels = out_channels\n",
    "        self.improved = improved\n",
    "        self.cached = cached\n",
    "        self.add_self_loops = add_self_loops\n",
    "\n",
    "        self._create_parameters_and_layers()\n",
    "\n",
    "    def _create_update_gate_parameters_and_layers(self):\n",
    "\n",
    "        self.conv_z = GCNConv(\n",
    "            in_channels=self.in_channels,\n",
    "            out_channels=self.out_channels,\n",
    "            improved=self.improved,\n",
    "            cached=self.cached,\n",
    "            add_self_loops=self.add_self_loops,\n",
    "        )\n",
    "\n",
    "        self.linear_z = torch.nn.Linear(2 * self.out_channels, self.out_channels)\n",
    "\n",
    "    def _create_reset_gate_parameters_and_layers(self):\n",
    "\n",
    "        self.conv_r = GCNConv(\n",
    "            in_channels=self.in_channels,\n",
    "            out_channels=self.out_channels,\n",
    "            improved=self.improved,\n",
    "            cached=self.cached,\n",
    "            add_self_loops=self.add_self_loops,\n",
    "        )\n",
    "\n",
    "        self.linear_r = torch.nn.Linear(2 * self.out_channels, self.out_channels)\n",
    "\n",
    "    def _create_candidate_state_parameters_and_layers(self):\n",
    "\n",
    "        self.conv_h = GCNConv(\n",
    "            in_channels=self.in_channels,\n",
    "            out_channels=self.out_channels,\n",
    "            improved=self.improved,\n",
    "            cached=self.cached,\n",
    "            add_self_loops=self.add_self_loops,\n",
    "        )\n",
    "\n",
    "        self.linear_h = torch.nn.Linear(2 * self.out_channels, self.out_channels)\n",
    "\n",
    "    def _create_parameters_and_layers(self):\n",
    "        self._create_update_gate_parameters_and_layers()\n",
    "        self._create_reset_gate_parameters_and_layers()\n",
    "        self._create_candidate_state_parameters_and_layers()\n",
    "\n",
    "    def _set_hidden_state(self, X, H):\n",
    "        if H is None:\n",
    "            H = torch.zeros(X.shape[0], self.out_channels).to(X.device)\n",
    "        return H\n",
    "\n",
    "    def _calculate_update_gate(self, X, edge_index, edge_weight, H):\n",
    "        Z = torch.cat([self.conv_z(X, edge_index, edge_weight), H], axis=1)\n",
    "        Z = self.linear_z(Z)\n",
    "        Z = torch.sigmoid(Z)\n",
    "        return Z\n",
    "\n",
    "    def _calculate_reset_gate(self, X, edge_index, edge_weight, H):\n",
    "        R = torch.cat([self.conv_r(X, edge_index, edge_weight), H], axis=1)\n",
    "        R = self.linear_r(R)\n",
    "        R = torch.sigmoid(R)\n",
    "        return R\n",
    "\n",
    "    def _calculate_candidate_state(self, X, edge_index, edge_weight, H, R):\n",
    "        H_tilde = torch.cat([self.conv_h(X, edge_index, edge_weight), H * R], axis=1)\n",
    "        H_tilde = self.linear_h(H_tilde)\n",
    "        H_tilde = torch.tanh(H_tilde)\n",
    "        return H_tilde\n",
    "\n",
    "    def _calculate_hidden_state(self, Z, H, H_tilde):\n",
    "        H = Z * H + (1 - Z) * H_tilde\n",
    "        return H\n",
    "\n",
    "    def forward(\n",
    "        self,\n",
    "        X: torch.FloatTensor,\n",
    "        edge_index: torch.LongTensor,\n",
    "        edge_weight: torch.FloatTensor = None,\n",
    "        H: torch.FloatTensor = None,\n",
    "    ) -> torch.FloatTensor:\n",
    "        \"\"\"\n",
    "        Making a forward pass. If edge weights are not present the forward pass\n",
    "        defaults to an unweighted graph. If the hidden state matrix is not present\n",
    "        when the forward pass is called it is initialized with zeros.\n",
    "\n",
    "        Arg types:\n",
    "            * **X** *(PyTorch Float Tensor)* - Node features.\n",
    "            * **edge_index** *(PyTorch Long Tensor)* - Graph edge indices.\n",
    "            * **edge_weight** *(PyTorch Long Tensor, optional)* - Edge weight vector.\n",
    "            * **H** *(PyTorch Float Tensor, optional)* - Hidden state matrix for all nodes.\n",
    "\n",
    "        Return types:\n",
    "            * **H** *(PyTorch Float Tensor)* - Hidden state matrix for all nodes.\n",
    "        \"\"\"\n",
    "        H = self._set_hidden_state(X, H)\n",
    "        Z = self._calculate_update_gate(X, edge_index, edge_weight, H)\n",
    "        R = self._calculate_reset_gate(X, edge_index, edge_weight, H)\n",
    "        H_tilde = self._calculate_candidate_state(X, edge_index, edge_weight, H, R)\n",
    "        H = self._calculate_hidden_state(Z, H, H_tilde)\n",
    "        return H\n"
   ]
  },
  {
   "cell_type": "code",
   "execution_count": 6,
   "metadata": {
    "execution": {
     "iopub.execute_input": "2025-07-06T15:20:17.953493Z",
     "iopub.status.busy": "2025-07-06T15:20:17.953255Z",
     "iopub.status.idle": "2025-07-06T15:20:17.968269Z",
     "shell.execute_reply": "2025-07-06T15:20:17.967721Z",
     "shell.execute_reply.started": "2025-07-06T15:20:17.953477Z"
    }
   },
   "outputs": [],
   "source": [
    "# Temporal operators......etc.\n",
    "from torch_geometric.nn import GCNConv, GATConv, ChebConv, TransformerConv, GINConv, SGConv, GeneralConv, SAGEConv\n",
    "from torch_geometric_temporal.nn.recurrent import DCRNN, GConvGRU, GConvLSTM, GCLSTM\n",
    "from torch_geometric.nn import global_mean_pool\n",
    "import torch.nn as nn\n",
    "\n",
    "\n",
    "class GraphTemporal(nn.Module):\n",
    "    def __init__(self, num_ch, num_t, op):\n",
    "        super(GraphTemporal, self).__init__()\n",
    "        self.lstm = nn.LSTM(input_size=32, hidden_size=10, num_layers=1, bidirectional=True, batch_first=True)\n",
    "        self.linear = nn.Linear(32, 2)\n",
    "        self.BN2 = nn.BatchNorm1d(56)\n",
    "        self.BN1 = nn.BatchNorm1d(19)\n",
    "        \n",
    "        self.conv1 = nn.Conv2d(num_ch, num_ch, (3, 3), stride=(1, 2), padding=(1, 0), dilation=(1, 3))\n",
    "        self.conv2 = nn.Conv2d(num_ch, num_ch, (3, 5), stride=(1, 2), padding=(1, 1), dilation=(1, 3))\n",
    "        self.conv3 = nn.Conv2d(num_ch, num_ch, (3, 10), stride=(1, 2), padding=(1, 3), dilation=(1, 3))\n",
    "        \n",
    "        self.maxpool = nn.MaxPool2d((1, 5))\n",
    "        self.relu = nn.ReLU()\n",
    "        \n",
    "        if op==\"GCLSTM\":\n",
    "            self.GraphOp = GCLSTM(in_channels=56, out_channels=32, K=2)\n",
    "        elif op==\"GConvLSTM\":\n",
    "            self.GraphOp = GConvLSTM(in_channels=56, out_channels=32, K=2)\n",
    "        elif op==\"A3TGCN\":\n",
    "            self.GraphOp = A3TGCN(in_channels=56, out_channels=32, periods=num_t)\n",
    "        elif op==\"TGCN\":\n",
    "            self.GraphOp = TGCN(in_channels=56, out_channels=32)\n",
    "        elif op==\"DCRNN\":\n",
    "            self.GraphOp = DCRNN(in_channels=56, out_channels=32, K=2)\n",
    "        elif op==\"GConvGRU\":\n",
    "            self.GraphOp = GConvGRU(in_channels=56, out_channels=32, K=2)\n",
    "            \n",
    "        self.num_ch = num_ch\n",
    "        self.num_t = num_t\n",
    "        self.op = op\n",
    "        #device = torch.device('cuda' if torch.cuda.is_available() else 'cpu')\n",
    "        #self._attention = torch.nn.Parameter(torch.empty(self.num_t, device=device))\n",
    "        #torch.nn.init.uniform_(self._attention)\n",
    "\n",
    "    \n",
    "    def forward(self, x, idx, attr, batch=False):\n",
    "        batch_size = int(x.shape[0]/self.num_ch)\n",
    "        \n",
    "        x = x.reshape(batch_size, self.num_ch, x.shape[-2], x.shape[-1])\n",
    "        x1 = self.conv1(x)\n",
    "        x1 = self.relu(x1)\n",
    "        x2 = self.conv2(x)\n",
    "        x2 = self.relu(x2)\n",
    "        x3 = self.conv3(x)\n",
    "        x3 = self.relu(x3)\n",
    "        x = torch.cat([x1, x2, x3], dim=-1)\n",
    "        \n",
    "        x = self.maxpool(x)\n",
    "        #x = x.permute(0, 1, 3, 2)\n",
    "        x = x.reshape(x.shape[0]*x.shape[1], x.shape[2], x.shape[3])\n",
    "\n",
    "        x = x.permute(0, 2, 1)\n",
    "        x = self.BN2(x)\n",
    "        x = x.permute(0, 2, 1)\n",
    "        if self.op == \"A3TGCN\":\n",
    "            HS = self.GraphOp(x, idx, attr)\n",
    "        else:\n",
    "            for t_idx in range(self.num_t):\n",
    "                attr_t = attr[:, t_idx]\n",
    "                x_t = x[:, t_idx]\n",
    "                if t_idx == 0:\n",
    "                    HS = self.GraphOp(x_t, idx, attr_t)\n",
    "                else:\n",
    "                    #HS = HS + probs[t_idx]*self.GraphOp(x_t, idx, attr_t, HS)\n",
    "                    HS = self.GraphOp(x_t, idx, attr_t, HS)\n",
    "                if type(HS) == tuple:\n",
    "                    HS = HS[0]\n",
    "        out = self.relu(HS)\n",
    "        out = global_mean_pool(out, batch)\n",
    "        out = self.linear(out)\n",
    "        return out"
   ]
  },
  {
   "cell_type": "code",
   "execution_count": 7,
   "metadata": {
    "execution": {
     "iopub.execute_input": "2025-07-06T15:20:17.969532Z",
     "iopub.status.busy": "2025-07-06T15:20:17.969076Z",
     "iopub.status.idle": "2025-07-06T15:20:17.982676Z",
     "shell.execute_reply": "2025-07-06T15:20:17.981974Z",
     "shell.execute_reply.started": "2025-07-06T15:20:17.969509Z"
    }
   },
   "outputs": [],
   "source": [
    "from sklearn.metrics import accuracy_score, confusion_matrix, f1_score, precision_score, recall_score, auc, roc_auc_score\n",
    "from tqdm import tqdm\n",
    "import torch\n",
    "import numpy as np\n",
    "\n",
    "\n",
    "def print_acc(model, data_iter):\n",
    "    outs= []\n",
    "    ys = []\n",
    "    \n",
    "    model.eval()\n",
    "    with torch.no_grad():\n",
    "        for batch in data_iter:\n",
    "            x = batch.x.float()\n",
    "            idx = batch.edge_index.long()\n",
    "            attr = batch.edge_attr.float()\n",
    "            y = batch.y\n",
    "            batch = batch.batch\n",
    "            y = torch.argmax(y, -1)\n",
    "            out = model(x, idx, attr, batch)\n",
    "            out = torch.exp(out)\n",
    "            outs.extend(out.cpu().detach().numpy())\n",
    "            ys.extend(y.cpu().detach().numpy())\n",
    "    \n",
    "    outs = np.array(outs)\n",
    "    ys = np.array(ys)\n",
    "    outs = np.argmax(outs, -1)\n",
    "\n",
    "    metrics = [accuracy_score(outs, ys), f1_score(outs, ys), \n",
    "               precision_score(outs, ys), recall_score(outs, ys)]\n",
    "    return metrics\n",
    "\n",
    "    \n",
    "def train_model(model, num_epochs, data_iter, val_iter=None, weight=None):\n",
    "    criterion = torch.nn.CrossEntropyLoss(weight = weight)\n",
    "    optimizer = torch.optim.AdamW(model.parameters(),lr=5e-4)\n",
    "\n",
    "    model.train()\n",
    "    for epoch in tqdm(range(num_epochs)): \n",
    "        model.train()\n",
    "        losses = 0\n",
    "        for _, batch in enumerate(data_iter):\n",
    "            x = batch.x.float()\n",
    "            idx = batch.edge_index.long()\n",
    "            attr = batch.edge_attr.float()\n",
    "            y = batch.y\n",
    "            batch = batch.batch\n",
    "            y = torch.argmax(y, -1)\n",
    "            optimizer.zero_grad()\n",
    "            out = model(x, idx, attr, batch)\n",
    "            loss = criterion(out, y)\n",
    "            loss.backward()\n",
    "            optimizer.step()\n",
    "            losses += loss.item() \n",
    "    return model            "
   ]
  },
  {
   "cell_type": "code",
   "execution_count": 8,
   "metadata": {
    "execution": {
     "iopub.execute_input": "2025-07-06T15:20:17.983566Z",
     "iopub.status.busy": "2025-07-06T15:20:17.983402Z",
     "iopub.status.idle": "2025-07-06T17:19:23.852139Z",
     "shell.execute_reply": "2025-07-06T17:19:23.851521Z",
     "shell.execute_reply.started": "2025-07-06T15:20:17.983552Z"
    }
   },
   "outputs": [
    {
     "name": "stderr",
     "output_type": "stream",
     "text": [
      "/tmp/ipykernel_188/3245352160.py:64: UserWarning: Creating a tensor from a list of numpy.ndarrays is extremely slow. Please consider converting the list to a single numpy.ndarray with numpy.array() before converting to a tensor. (Triggered internally at /pytorch/torch/csrc/utils/tensor_new.cpp:254.)\n",
      "  y = torch.tensor([y], dtype=torch.float).to(device)\n",
      "100%|██████████| 6/6 [03:26<00:00, 34.34s/it]\n"
     ]
    },
    {
     "name": "stdout",
     "output_type": "stream",
     "text": [
      "Finished A3TGCN Training\n"
     ]
    },
    {
     "name": "stderr",
     "output_type": "stream",
     "text": [
      "100%|██████████| 6/6 [03:26<00:00, 34.34s/it]\n"
     ]
    },
    {
     "name": "stdout",
     "output_type": "stream",
     "text": [
      "Finished A3TGCN Training\n"
     ]
    },
    {
     "name": "stderr",
     "output_type": "stream",
     "text": [
      "100%|██████████| 6/6 [03:25<00:00, 34.32s/it]\n"
     ]
    },
    {
     "name": "stdout",
     "output_type": "stream",
     "text": [
      "Finished A3TGCN Training\n"
     ]
    },
    {
     "name": "stderr",
     "output_type": "stream",
     "text": [
      "100%|██████████| 6/6 [03:25<00:00, 34.22s/it]\n"
     ]
    },
    {
     "name": "stdout",
     "output_type": "stream",
     "text": [
      "Finished A3TGCN Training\n"
     ]
    },
    {
     "name": "stderr",
     "output_type": "stream",
     "text": [
      "100%|██████████| 6/6 [03:25<00:00, 34.28s/it]\n"
     ]
    },
    {
     "name": "stdout",
     "output_type": "stream",
     "text": [
      "Finished A3TGCN Training\n"
     ]
    },
    {
     "name": "stderr",
     "output_type": "stream",
     "text": [
      "100%|██████████| 6/6 [05:02<00:00, 50.39s/it]\n"
     ]
    },
    {
     "name": "stdout",
     "output_type": "stream",
     "text": [
      "Finished GCLSTM Training\n"
     ]
    },
    {
     "name": "stderr",
     "output_type": "stream",
     "text": [
      "100%|██████████| 6/6 [05:04<00:00, 50.75s/it]\n"
     ]
    },
    {
     "name": "stdout",
     "output_type": "stream",
     "text": [
      "Finished GCLSTM Training\n"
     ]
    },
    {
     "name": "stderr",
     "output_type": "stream",
     "text": [
      "100%|██████████| 6/6 [05:01<00:00, 50.24s/it]\n"
     ]
    },
    {
     "name": "stdout",
     "output_type": "stream",
     "text": [
      "Finished GCLSTM Training\n"
     ]
    },
    {
     "name": "stderr",
     "output_type": "stream",
     "text": [
      "100%|██████████| 6/6 [05:03<00:00, 50.61s/it]\n"
     ]
    },
    {
     "name": "stdout",
     "output_type": "stream",
     "text": [
      "Finished GCLSTM Training\n"
     ]
    },
    {
     "name": "stderr",
     "output_type": "stream",
     "text": [
      "100%|██████████| 6/6 [05:04<00:00, 50.69s/it]\n"
     ]
    },
    {
     "name": "stdout",
     "output_type": "stream",
     "text": [
      "Finished GCLSTM Training\n"
     ]
    },
    {
     "name": "stderr",
     "output_type": "stream",
     "text": [
      "100%|██████████| 6/6 [03:18<00:00, 33.02s/it]\n"
     ]
    },
    {
     "name": "stdout",
     "output_type": "stream",
     "text": [
      "Finished TGCN Training\n"
     ]
    },
    {
     "name": "stderr",
     "output_type": "stream",
     "text": [
      "100%|██████████| 6/6 [03:17<00:00, 32.92s/it]\n"
     ]
    },
    {
     "name": "stdout",
     "output_type": "stream",
     "text": [
      "Finished TGCN Training\n"
     ]
    },
    {
     "name": "stderr",
     "output_type": "stream",
     "text": [
      "100%|██████████| 6/6 [03:17<00:00, 32.92s/it]\n"
     ]
    },
    {
     "name": "stdout",
     "output_type": "stream",
     "text": [
      "Finished TGCN Training\n"
     ]
    },
    {
     "name": "stderr",
     "output_type": "stream",
     "text": [
      "100%|██████████| 6/6 [03:18<00:00, 33.06s/it]\n"
     ]
    },
    {
     "name": "stdout",
     "output_type": "stream",
     "text": [
      "Finished TGCN Training\n"
     ]
    },
    {
     "name": "stderr",
     "output_type": "stream",
     "text": [
      "100%|██████████| 6/6 [03:18<00:00, 33.00s/it]\n"
     ]
    },
    {
     "name": "stdout",
     "output_type": "stream",
     "text": [
      "Finished TGCN Training\n"
     ]
    },
    {
     "name": "stderr",
     "output_type": "stream",
     "text": [
      "100%|██████████| 6/6 [05:12<00:00, 52.09s/it]\n"
     ]
    },
    {
     "name": "stdout",
     "output_type": "stream",
     "text": [
      "Finished DCRNN Training\n"
     ]
    },
    {
     "name": "stderr",
     "output_type": "stream",
     "text": [
      "100%|██████████| 6/6 [05:12<00:00, 52.15s/it]\n"
     ]
    },
    {
     "name": "stdout",
     "output_type": "stream",
     "text": [
      "Finished DCRNN Training\n"
     ]
    },
    {
     "name": "stderr",
     "output_type": "stream",
     "text": [
      "100%|██████████| 6/6 [05:12<00:00, 52.13s/it]\n"
     ]
    },
    {
     "name": "stdout",
     "output_type": "stream",
     "text": [
      "Finished DCRNN Training\n"
     ]
    },
    {
     "name": "stderr",
     "output_type": "stream",
     "text": [
      "100%|██████████| 6/6 [05:11<00:00, 51.97s/it]\n"
     ]
    },
    {
     "name": "stdout",
     "output_type": "stream",
     "text": [
      "Finished DCRNN Training\n"
     ]
    },
    {
     "name": "stderr",
     "output_type": "stream",
     "text": [
      "100%|██████████| 6/6 [05:10<00:00, 51.71s/it]\n"
     ]
    },
    {
     "name": "stdout",
     "output_type": "stream",
     "text": [
      "Finished DCRNN Training\n"
     ]
    },
    {
     "name": "stderr",
     "output_type": "stream",
     "text": [
      "100%|██████████| 6/6 [06:30<00:00, 65.15s/it]\n"
     ]
    },
    {
     "name": "stdout",
     "output_type": "stream",
     "text": [
      "Finished GConvGRU Training\n"
     ]
    },
    {
     "name": "stderr",
     "output_type": "stream",
     "text": [
      "100%|██████████| 6/6 [06:28<00:00, 64.83s/it]\n"
     ]
    },
    {
     "name": "stdout",
     "output_type": "stream",
     "text": [
      "Finished GConvGRU Training\n"
     ]
    },
    {
     "name": "stderr",
     "output_type": "stream",
     "text": [
      "100%|██████████| 6/6 [06:29<00:00, 64.84s/it]\n"
     ]
    },
    {
     "name": "stdout",
     "output_type": "stream",
     "text": [
      "Finished GConvGRU Training\n"
     ]
    },
    {
     "name": "stderr",
     "output_type": "stream",
     "text": [
      "100%|██████████| 6/6 [06:30<00:00, 65.06s/it]\n"
     ]
    },
    {
     "name": "stdout",
     "output_type": "stream",
     "text": [
      "Finished GConvGRU Training\n"
     ]
    },
    {
     "name": "stderr",
     "output_type": "stream",
     "text": [
      "100%|██████████| 6/6 [06:32<00:00, 65.37s/it]\n"
     ]
    },
    {
     "name": "stdout",
     "output_type": "stream",
     "text": [
      "Finished GConvGRU Training\n"
     ]
    }
   ],
   "source": [
    "\"\"\"Coherence connectivity\"\"\"\n",
    "train_X = np.load(\"/kaggle/input/nmt-graphs/train_X.npy\", mmap_mode=\"c\").astype(np.float16)*1e3\n",
    "train_y = np.load(\"/kaggle/input/nmt-graphs/train_y.npy\", mmap_mode=\"c\").astype(np.float16)\n",
    "train_graphs = np.load(\"/kaggle/input/nmt-graphs/train_graphs_coh.npy\", mmap_mode=\"c\").astype(np.float16)\n",
    "test_y = np.load(\"/kaggle/input/nmt-graphs/test_y.npy\", mmap_mode=\"c\").astype(np.float16)\n",
    "test_X = np.load(\"/kaggle/input/nmt-graphs/test_X.npy\", mmap_mode=\"c\").astype(np.float16)*1e3\n",
    "test_graphs = np.load(\"/kaggle/input/nmt-graphs/test_graphs_coh.npy\", mmap_mode=\"c\").astype(np.float16)\n",
    "train_X = np.moveaxis(train_X, 1, 2)\n",
    "test_X = np.moveaxis(test_X, 1, 2)\n",
    "train_graphs, test_graphs = norm_adj(train_graphs, test_graphs)\n",
    "train_iter, test_iter  = loaders(train_X, train_graphs, train_y, test_X, test_graphs, test_y, DEVICE, BATCH_SIZE, NUM_WINDOWS)\n",
    "\n",
    "num_epochs = 6\n",
    "results = []\n",
    "gt_operators = [\"A3TGCN\", \"GCLSTM\", \"TGCN\", \"DCRNN\", \"GConvGRU\"]\n",
    "for op in gt_operators:\n",
    "    for i in range(5): #run 5 times\n",
    "        model = GraphTemporal(num_ch=19, num_t=NUM_WINDOWS, op=op).to(DEVICE)\n",
    "        class_weight = torch.tensor([1., 6.]).to(DEVICE)\n",
    "        model = train_model(model, num_epochs, train_iter, weight=class_weight)\n",
    "        print(\"Finished \"+ op +\" Training\")\n",
    "        test_res = print_acc(model, test_iter)\n",
    "        results.append(test_res)"
   ]
  },
  {
   "cell_type": "code",
   "execution_count": 9,
   "metadata": {
    "execution": {
     "iopub.execute_input": "2025-07-06T17:19:23.853775Z",
     "iopub.status.busy": "2025-07-06T17:19:23.853055Z",
     "iopub.status.idle": "2025-07-06T17:19:23.859531Z",
     "shell.execute_reply": "2025-07-06T17:19:23.858835Z",
     "shell.execute_reply.started": "2025-07-06T17:19:23.853749Z"
    }
   },
   "outputs": [
    {
     "name": "stdout",
     "output_type": "stream",
     "text": [
      "A3TGCN accuracy 0.7289617486338799 0.013205514725239984\n",
      "A3TGCN f1 0.7316201725753075 0.011291813071841801\n",
      "A3TGCN precision 0.7511111111111111 0.018053418676968806\n",
      "A3TGCN recall 0.7136313551907449 0.017723984522070607\n",
      "GCLSTM accuracy 0.7136612021857924 0.02409334173229358\n",
      "GCLSTM f1 0.6893668745791988 0.025575182025374538\n",
      "GCLSTM precision 0.6466666666666667 0.03744955454745048\n",
      "GCLSTM recall 0.7405158770252633 0.036639736079626214\n",
      "TGCN accuracy 0.6469945355191257 0.02777762847462039\n",
      "TGCN f1 0.5788292806167682 0.03823846859426662\n",
      "TGCN precision 0.4955555555555556 0.05470459388929409\n",
      "TGCN recall 0.7037947586586777 0.05593751729985391\n",
      "DCRNN accuracy 0.6743169398907104 0.022021247737278545\n",
      "DCRNN f1 0.637004682617102 0.027761057705060144\n",
      "DCRNN precision 0.5822222222222222 0.03887301263230198\n",
      "DCRNN recall 0.7054508160758161 0.03046385997080812\n",
      "GConvGRU accuracy 0.6743169398907104 0.027991799945061634\n",
      "GConvGRU f1 0.6074763004281076 0.04394989293288261\n",
      "GConvGRU precision 0.5155555555555555 0.05777777777777779\n",
      "GConvGRU recall 0.745323527929018 0.0437530887694481\n"
     ]
    }
   ],
   "source": [
    "acc = [\"accuracy\", \"f1\", \"precision\", \"recall\"]\n",
    "results = np.array(results).reshape(5, 5, 4)\n",
    "for idx, res in enumerate(results):\n",
    "    mean = np.mean(res, axis=0)\n",
    "    std = np.std(res, axis=0)\n",
    "    for mi, _ in enumerate(mean):\n",
    "        print(gt_operators[idx], acc[mi], mean[mi], std[mi])"
   ]
  },
  {
   "cell_type": "code",
   "execution_count": 11,
   "metadata": {
    "execution": {
     "iopub.execute_input": "2025-07-06T17:23:54.888197Z",
     "iopub.status.busy": "2025-07-06T17:23:54.887609Z",
     "iopub.status.idle": "2025-07-06T19:25:26.367711Z",
     "shell.execute_reply": "2025-07-06T19:25:26.366818Z",
     "shell.execute_reply.started": "2025-07-06T17:23:54.888171Z"
    }
   },
   "outputs": [
    {
     "name": "stderr",
     "output_type": "stream",
     "text": [
      "100%|██████████| 6/6 [03:40<00:00, 36.68s/it]\n"
     ]
    },
    {
     "name": "stdout",
     "output_type": "stream",
     "text": [
      "Finished A3TGCN Training\n"
     ]
    },
    {
     "name": "stderr",
     "output_type": "stream",
     "text": [
      "100%|██████████| 6/6 [03:31<00:00, 35.22s/it]\n"
     ]
    },
    {
     "name": "stdout",
     "output_type": "stream",
     "text": [
      "Finished A3TGCN Training\n"
     ]
    },
    {
     "name": "stderr",
     "output_type": "stream",
     "text": [
      "100%|██████████| 6/6 [03:31<00:00, 35.19s/it]\n"
     ]
    },
    {
     "name": "stdout",
     "output_type": "stream",
     "text": [
      "Finished A3TGCN Training\n"
     ]
    },
    {
     "name": "stderr",
     "output_type": "stream",
     "text": [
      "100%|██████████| 6/6 [03:30<00:00, 35.11s/it]\n"
     ]
    },
    {
     "name": "stdout",
     "output_type": "stream",
     "text": [
      "Finished A3TGCN Training\n"
     ]
    },
    {
     "name": "stderr",
     "output_type": "stream",
     "text": [
      "100%|██████████| 6/6 [03:31<00:00, 35.33s/it]\n"
     ]
    },
    {
     "name": "stdout",
     "output_type": "stream",
     "text": [
      "Finished A3TGCN Training\n"
     ]
    },
    {
     "name": "stderr",
     "output_type": "stream",
     "text": [
      "100%|██████████| 6/6 [05:10<00:00, 51.71s/it]\n"
     ]
    },
    {
     "name": "stdout",
     "output_type": "stream",
     "text": [
      "Finished GCLSTM Training\n"
     ]
    },
    {
     "name": "stderr",
     "output_type": "stream",
     "text": [
      "100%|██████████| 6/6 [05:10<00:00, 51.75s/it]\n"
     ]
    },
    {
     "name": "stdout",
     "output_type": "stream",
     "text": [
      "Finished GCLSTM Training\n"
     ]
    },
    {
     "name": "stderr",
     "output_type": "stream",
     "text": [
      "100%|██████████| 6/6 [05:09<00:00, 51.60s/it]\n"
     ]
    },
    {
     "name": "stdout",
     "output_type": "stream",
     "text": [
      "Finished GCLSTM Training\n"
     ]
    },
    {
     "name": "stderr",
     "output_type": "stream",
     "text": [
      "100%|██████████| 6/6 [05:08<00:00, 51.40s/it]\n"
     ]
    },
    {
     "name": "stdout",
     "output_type": "stream",
     "text": [
      "Finished GCLSTM Training\n"
     ]
    },
    {
     "name": "stderr",
     "output_type": "stream",
     "text": [
      "100%|██████████| 6/6 [05:09<00:00, 51.52s/it]\n"
     ]
    },
    {
     "name": "stdout",
     "output_type": "stream",
     "text": [
      "Finished GCLSTM Training\n"
     ]
    },
    {
     "name": "stderr",
     "output_type": "stream",
     "text": [
      "100%|██████████| 6/6 [03:22<00:00, 33.79s/it]\n"
     ]
    },
    {
     "name": "stdout",
     "output_type": "stream",
     "text": [
      "Finished TGCN Training\n"
     ]
    },
    {
     "name": "stderr",
     "output_type": "stream",
     "text": [
      "100%|██████████| 6/6 [03:22<00:00, 33.68s/it]\n"
     ]
    },
    {
     "name": "stdout",
     "output_type": "stream",
     "text": [
      "Finished TGCN Training\n"
     ]
    },
    {
     "name": "stderr",
     "output_type": "stream",
     "text": [
      "100%|██████████| 6/6 [03:22<00:00, 33.71s/it]\n"
     ]
    },
    {
     "name": "stdout",
     "output_type": "stream",
     "text": [
      "Finished TGCN Training\n"
     ]
    },
    {
     "name": "stderr",
     "output_type": "stream",
     "text": [
      "100%|██████████| 6/6 [03:21<00:00, 33.60s/it]\n"
     ]
    },
    {
     "name": "stdout",
     "output_type": "stream",
     "text": [
      "Finished TGCN Training\n"
     ]
    },
    {
     "name": "stderr",
     "output_type": "stream",
     "text": [
      "100%|██████████| 6/6 [03:21<00:00, 33.63s/it]\n"
     ]
    },
    {
     "name": "stdout",
     "output_type": "stream",
     "text": [
      "Finished TGCN Training\n"
     ]
    },
    {
     "name": "stderr",
     "output_type": "stream",
     "text": [
      "100%|██████████| 6/6 [05:20<00:00, 53.41s/it]\n"
     ]
    },
    {
     "name": "stdout",
     "output_type": "stream",
     "text": [
      "Finished DCRNN Training\n"
     ]
    },
    {
     "name": "stderr",
     "output_type": "stream",
     "text": [
      "100%|██████████| 6/6 [05:19<00:00, 53.31s/it]\n"
     ]
    },
    {
     "name": "stdout",
     "output_type": "stream",
     "text": [
      "Finished DCRNN Training\n"
     ]
    },
    {
     "name": "stderr",
     "output_type": "stream",
     "text": [
      "100%|██████████| 6/6 [05:19<00:00, 53.21s/it]\n"
     ]
    },
    {
     "name": "stdout",
     "output_type": "stream",
     "text": [
      "Finished DCRNN Training\n"
     ]
    },
    {
     "name": "stderr",
     "output_type": "stream",
     "text": [
      "100%|██████████| 6/6 [05:18<00:00, 53.15s/it]\n"
     ]
    },
    {
     "name": "stdout",
     "output_type": "stream",
     "text": [
      "Finished DCRNN Training\n"
     ]
    },
    {
     "name": "stderr",
     "output_type": "stream",
     "text": [
      "100%|██████████| 6/6 [05:19<00:00, 53.29s/it]\n"
     ]
    },
    {
     "name": "stdout",
     "output_type": "stream",
     "text": [
      "Finished DCRNN Training\n"
     ]
    },
    {
     "name": "stderr",
     "output_type": "stream",
     "text": [
      "100%|██████████| 6/6 [06:38<00:00, 66.39s/it]\n"
     ]
    },
    {
     "name": "stdout",
     "output_type": "stream",
     "text": [
      "Finished GConvGRU Training\n"
     ]
    },
    {
     "name": "stderr",
     "output_type": "stream",
     "text": [
      "100%|██████████| 6/6 [06:36<00:00, 66.05s/it]\n"
     ]
    },
    {
     "name": "stdout",
     "output_type": "stream",
     "text": [
      "Finished GConvGRU Training\n"
     ]
    },
    {
     "name": "stderr",
     "output_type": "stream",
     "text": [
      "100%|██████████| 6/6 [06:34<00:00, 65.82s/it]\n"
     ]
    },
    {
     "name": "stdout",
     "output_type": "stream",
     "text": [
      "Finished GConvGRU Training\n"
     ]
    },
    {
     "name": "stderr",
     "output_type": "stream",
     "text": [
      "100%|██████████| 6/6 [06:35<00:00, 65.90s/it]\n"
     ]
    },
    {
     "name": "stdout",
     "output_type": "stream",
     "text": [
      "Finished GConvGRU Training\n"
     ]
    },
    {
     "name": "stderr",
     "output_type": "stream",
     "text": [
      "100%|██████████| 6/6 [06:35<00:00, 65.87s/it]\n"
     ]
    },
    {
     "name": "stdout",
     "output_type": "stream",
     "text": [
      "Finished GConvGRU Training\n"
     ]
    }
   ],
   "source": [
    "\"\"\"PLV connectivity\"\"\"\n",
    "\n",
    "train_graphs = np.load(\"/kaggle/input/nmt-graphs/train_graphs_plv.npy\", mmap_mode=\"c\").astype(np.float16)\n",
    "test_graphs = np.load(\"/kaggle/input/nmt-graphs/test_graphs_plv.npy\", mmap_mode=\"c\").astype(np.float16)\n",
    "train_graphs, test_graphs = norm_adj(train_graphs, test_graphs)\n",
    "train_iter, test_iter  = loaders(train_X, train_graphs, train_y, test_X, test_graphs, test_y, DEVICE, BATCH_SIZE, NUM_WINDOWS)\n",
    "\n",
    "results = []\n",
    "gt_operators = [\"A3TGCN\", \"GCLSTM\", \"TGCN\", \"DCRNN\", \"GConvGRU\"]\n",
    "for op in gt_operators:\n",
    "    for i in range(5):\n",
    "        model = GraphTemporal(num_ch=19, num_t=NUM_WINDOWS, op=op).to(DEVICE)\n",
    "        class_weight = torch.tensor([1., 6.]).to(DEVICE)\n",
    "        model = train_model(model, num_epochs, train_iter, weight=class_weight)\n",
    "        print(\"Finished \"+ op +\" Training\")\n",
    "        test_res = print_acc(model, test_iter)\n",
    "        results.append(test_res)"
   ]
  },
  {
   "cell_type": "code",
   "execution_count": 12,
   "metadata": {
    "execution": {
     "iopub.execute_input": "2025-07-06T19:25:26.369725Z",
     "iopub.status.busy": "2025-07-06T19:25:26.369080Z",
     "iopub.status.idle": "2025-07-06T19:25:26.375615Z",
     "shell.execute_reply": "2025-07-06T19:25:26.374876Z",
     "shell.execute_reply.started": "2025-07-06T19:25:26.369706Z"
    }
   },
   "outputs": [
    {
     "name": "stdout",
     "output_type": "stream",
     "text": [
      "A3TGCN accuracy 0.7387978142076503 0.005354075940509685\n",
      "A3TGCN f1 0.7410114568009305 0.015040314432790441\n",
      "A3TGCN precision 0.7622222222222221 0.04693047129320638\n",
      "A3TGCN recall 0.7235101221066134 0.0173910950865624\n",
      "GCLSTM accuracy 0.6896174863387977 0.01482476499043776\n",
      "GCLSTM f1 0.6628035820491558 0.02444410506185575\n",
      "GCLSTM precision 0.6222222222222222 0.042745297914825224\n",
      "GCLSTM recall 0.7115345695226345 0.019551315134073058\n",
      "TGCN accuracy 0.6743169398907104 0.025065234844108664\n",
      "TGCN f1 0.6154524867345381 0.07349685568216284\n",
      "TGCN precision 0.5466666666666667 0.11053182324840792\n",
      "TGCN recall 0.7348473439359515 0.05233714939681583\n",
      "DCRNN accuracy 0.6688524590163935 0.035346364215948035\n",
      "DCRNN f1 0.627753659885019 0.03280477150699191\n",
      "DCRNN precision 0.5666666666666667 0.02721655269759089\n",
      "DCRNN recall 0.7054816908823677 0.05298827858231485\n",
      "GConvGRU accuracy 0.6754098360655737 0.030640100041259426\n",
      "GConvGRU f1 0.613798824434032 0.05200071762272961\n",
      "GConvGRU precision 0.5288888888888889 0.06386714605866628\n",
      "GConvGRU recall 0.7352293725300791 0.02616958797075532\n"
     ]
    }
   ],
   "source": [
    "acc = [\"accuracy\", \"f1\", \"precision\", \"recall\"]\n",
    "results = np.array(results).reshape(5, 5, 4)\n",
    "for idx, res in enumerate(results):\n",
    "    mean = np.mean(res, axis=0)\n",
    "    std = np.std(res, axis=0)\n",
    "    for mi, _ in enumerate(mean):\n",
    "        print(gt_operators[idx], acc[mi], mean[mi], std[mi])"
   ]
  }
 ],
 "metadata": {
  "kaggle": {
   "accelerator": "none",
   "dataSources": [
    {
     "datasetId": 7806831,
     "sourceId": 12388594,
     "sourceType": "datasetVersion"
    }
   ],
   "dockerImageVersionId": 31041,
   "isGpuEnabled": false,
   "isInternetEnabled": true,
   "language": "python",
   "sourceType": "notebook"
  },
  "kernelspec": {
   "display_name": "Python 3 (Spyder)",
   "language": "python3",
   "name": "python3"
  },
  "language_info": {
   "codemirror_mode": {
    "name": "ipython",
    "version": 3
   },
   "file_extension": ".py",
   "mimetype": "text/x-python",
   "name": "python",
   "nbconvert_exporter": "python",
   "pygments_lexer": "ipython3",
   "version": "3.10.16"
  }
 },
 "nbformat": 4,
 "nbformat_minor": 4
}
