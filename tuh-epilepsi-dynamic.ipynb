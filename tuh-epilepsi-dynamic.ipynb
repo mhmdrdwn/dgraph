{
 "cells": [
  {
   "cell_type": "code",
   "execution_count": 1,
   "metadata": {
    "_cell_guid": "b1076dfc-b9ad-4769-8c92-a6c4dae69d19",
    "_uuid": "8f2839f25d086af736a60e9eeb907d3b93b6e0e5",
    "execution": {
     "iopub.execute_input": "2025-06-30T22:41:55.886615Z",
     "iopub.status.busy": "2025-06-30T22:41:55.885880Z",
     "iopub.status.idle": "2025-06-30T22:41:58.028238Z",
     "shell.execute_reply": "2025-06-30T22:41:58.027624Z",
     "shell.execute_reply.started": "2025-06-30T22:41:55.886591Z"
    }
   },
   "outputs": [],
   "source": [
    "\n",
    "\"\"\"\n",
    "TUH Epilepsy Dataset\n",
    "\"\"\"\n",
    "\n",
    "from tqdm import tqdm\n",
    "import glob, os\n",
    "import numpy as np\n",
    "import torch\n",
    "\n",
    "from IPython.display import clear_output\n",
    "from torch.utils.data import TensorDataset,DataLoader\n",
    "from sklearn.preprocessing import OneHotEncoder\n",
    "\n",
    "DEVICE = torch.device(\"cuda\") #torch.device(\"mps\")\n",
    "BATCH_SIZE = 32\n",
    "NUM_WINDOWS = 60\n",
    "\n",
    "\n",
    "def norm_adj(train_graphs, test_graphs):\n",
    "    for i in range(train_graphs.shape[0]):\n",
    "        for j in range(train_graphs.shape[1]):\n",
    "            min_ = (train_graphs[i, j, :, :]).min()\n",
    "            max_ = (train_graphs[i, j, :, :]).max()\n",
    "            train_graphs[i, j, :,  :] = (train_graphs[i, j, :,  :] - min_)/(max_ - min_)\n",
    "                \n",
    "    for i in range(test_graphs.shape[0]):\n",
    "        for j in range(test_graphs.shape[1]):\n",
    "            min_ = (test_graphs[i, j, :, :]).min()\n",
    "            max_ = (test_graphs[i, j, :, :]).max()\n",
    "            test_graphs[i, j, :, :] = (test_graphs[i, j, :,  :] - min_)/(max_ - min_)\n",
    "            \n",
    "    return train_graphs, test_graphs\n",
    "\n",
    "def norm_feat(train_X, test_X):\n",
    "    for i in range(train_X.shape[1]):\n",
    "        min_ = (train_X[:, i, :]).min()\n",
    "        max_ = (train_X[:, i, :]).max()\n",
    "        train_X[:, i, :] = (train_X[:, i, :] - min_)/(max_ - min_)\n",
    "        test_X[:, i, :] = (test_X[:, i, :] - min_)/(max_ - min_)\n",
    "\n",
    "    return train_X, test_X\n",
    "\n",
    "\n",
    "from sklearn.model_selection import train_test_split\n",
    "\n",
    "def stratify_train_test_split(conn=\"coh\"):\n",
    "    train_X = np.load(\"/kaggle/input/tuh-epilepsy/train_X.npy\", mmap_mode=\"c\")*1e3\n",
    "    train_y = np.load(\"/kaggle/input/tuh-epilepsy/train_y.npy\", mmap_mode=\"c\")\n",
    "    train_graphs = np.load(\"/kaggle/input/tuh-epilepsy/train_graphs_\"+conn+\".npy\", mmap_mode=\"c\")\n",
    "    test_y = np.load(\"/kaggle/input/tuh-epilepsy/test_y.npy\", mmap_mode=\"c\")\n",
    "    test_X = np.load(\"/kaggle/input/tuh-epilepsy/test_X.npy\", mmap_mode=\"c\")*1e3\n",
    "    test_graphs = np.load(\"/kaggle/input/tuh-epilepsy/test_graphs_\"+conn+\".npy\", mmap_mode=\"c\")\n",
    "    train_X = np.vstack((train_X, test_X))\n",
    "    train_graphs = np.vstack((train_graphs, test_graphs))\n",
    "    train_y = np.vstack((train_y, test_y))\n",
    "    train_graphs, test_graphs = norm_adj(train_graphs, test_graphs)\n",
    "    train_X = np.moveaxis(train_X, 1, 2)\n",
    "    test_X = np.moveaxis(test_X, 1, 2)\n",
    "    target = train_y\n",
    "    train_X, test_X, train_y, test_y = train_test_split(train_X, train_y, test_size=0.1, random_state=42, stratify=target)\n",
    "    train_graphs, test_graphs = train_test_split(train_graphs, test_size=0.1, random_state=42, stratify=target)\n",
    "    return train_X, train_graphs, train_y, test_X, test_graphs, test_y"
   ]
  },
  {
   "cell_type": "code",
   "execution_count": 3,
   "metadata": {
    "execution": {
     "iopub.execute_input": "2025-06-30T22:16:37.309100Z",
     "iopub.status.busy": "2025-06-30T22:16:37.308697Z",
     "iopub.status.idle": "2025-06-30T22:16:37.675337Z",
     "shell.execute_reply": "2025-06-30T22:16:37.674311Z",
     "shell.execute_reply.started": "2025-06-30T22:16:37.309051Z"
    }
   },
   "outputs": [
    {
     "data": {
      "text/plain": [
       "(1992, 60, 19, 200)"
      ]
     },
     "execution_count": 3,
     "metadata": {},
     "output_type": "execute_result"
    }
   ],
   "source": [
    "train_X.shape"
   ]
  },
  {
   "cell_type": "code",
   "execution_count": 4,
   "metadata": {
    "execution": {
     "iopub.execute_input": "2025-06-30T22:16:37.676676Z",
     "iopub.status.busy": "2025-06-30T22:16:37.676376Z",
     "iopub.status.idle": "2025-06-30T22:16:41.928002Z",
     "shell.execute_reply": "2025-06-30T22:16:41.926823Z",
     "shell.execute_reply.started": "2025-06-30T22:16:37.676652Z"
    }
   },
   "outputs": [
    {
     "data": {
      "text/plain": [
       "(1992, 60, 19, 19)"
      ]
     },
     "execution_count": 4,
     "metadata": {},
     "output_type": "execute_result"
    }
   ],
   "source": [
    "train_graphs = np.vstack((train_graphs, test_graphs))\n",
    "train_graphs.shape"
   ]
  },
  {
   "cell_type": "code",
   "execution_count": 5,
   "metadata": {
    "execution": {
     "iopub.execute_input": "2025-06-30T22:16:41.930759Z",
     "iopub.status.busy": "2025-06-30T22:16:41.930404Z",
     "iopub.status.idle": "2025-06-30T22:16:41.937605Z",
     "shell.execute_reply": "2025-06-30T22:16:41.936535Z",
     "shell.execute_reply.started": "2025-06-30T22:16:41.930704Z"
    }
   },
   "outputs": [
    {
     "data": {
      "text/plain": [
       "(1992, 1)"
      ]
     },
     "execution_count": 5,
     "metadata": {},
     "output_type": "execute_result"
    }
   ],
   "source": [
    "train_y = np.vstack((train_y, test_y))\n",
    "train_y.shape"
   ]
  },
  {
   "cell_type": "code",
   "execution_count": 6,
   "metadata": {
    "execution": {
     "iopub.execute_input": "2025-06-30T22:17:09.864827Z",
     "iopub.status.busy": "2025-06-30T22:17:09.864384Z",
     "iopub.status.idle": "2025-06-30T22:17:10.795830Z",
     "shell.execute_reply": "2025-06-30T22:17:10.794706Z",
     "shell.execute_reply.started": "2025-06-30T22:17:09.864801Z"
    }
   },
   "outputs": [],
   "source": [
    "target = train_y\n",
    "train_X, test_X, train_y, test_y = train_test_split(train_X, train_y, test_size=0.1, random_state=42, stratify=target)\n",
    "train_graphs, test_graphs = train_test_split(train_graphs, test_size=0.1, random_state=42, stratify=target)"
   ]
  },
  {
   "cell_type": "code",
   "execution_count": 9,
   "metadata": {
    "execution": {
     "iopub.execute_input": "2025-06-30T22:17:48.854120Z",
     "iopub.status.busy": "2025-06-30T22:17:48.853765Z",
     "iopub.status.idle": "2025-06-30T22:17:48.863308Z",
     "shell.execute_reply": "2025-06-30T22:17:48.862227Z",
     "shell.execute_reply.started": "2025-06-30T22:17:48.854096Z"
    }
   },
   "outputs": [
    {
     "data": {
      "text/plain": [
       "(37, 163)"
      ]
     },
     "execution_count": 9,
     "metadata": {},
     "output_type": "execute_result"
    }
   ],
   "source": [
    "list((test_y.squeeze())).count(0), list((test_y.squeeze())).count(1)"
   ]
  },
  {
   "cell_type": "code",
   "execution_count": 11,
   "metadata": {
    "execution": {
     "iopub.execute_input": "2025-06-30T22:20:18.206672Z",
     "iopub.status.busy": "2025-06-30T22:20:18.206318Z",
     "iopub.status.idle": "2025-06-30T22:20:18.222679Z",
     "shell.execute_reply": "2025-06-30T22:20:18.221550Z",
     "shell.execute_reply.started": "2025-06-30T22:20:18.206651Z"
    }
   },
   "outputs": [
    {
     "data": {
      "text/plain": [
       "(332, 1460)"
      ]
     },
     "execution_count": 11,
     "metadata": {},
     "output_type": "execute_result"
    }
   ],
   "source": [
    "list((train_y.squeeze())).count(0), list((train_y.squeeze())).count(1)"
   ]
  },
  {
   "cell_type": "code",
   "execution_count": 10,
   "metadata": {
    "execution": {
     "iopub.execute_input": "2025-06-30T22:20:00.755564Z",
     "iopub.status.busy": "2025-06-30T22:20:00.755099Z",
     "iopub.status.idle": "2025-06-30T22:20:00.764138Z",
     "shell.execute_reply": "2025-06-30T22:20:00.762651Z",
     "shell.execute_reply.started": "2025-06-30T22:20:00.755538Z"
    }
   },
   "outputs": [
    {
     "data": {
      "text/plain": [
       "200"
      ]
     },
     "execution_count": 10,
     "metadata": {},
     "output_type": "execute_result"
    }
   ],
   "source": [
    "163+37"
   ]
  },
  {
   "cell_type": "code",
   "execution_count": 2,
   "metadata": {
    "execution": {
     "iopub.execute_input": "2025-06-30T22:42:00.327042Z",
     "iopub.status.busy": "2025-06-30T22:42:00.326664Z",
     "iopub.status.idle": "2025-06-30T22:42:03.054662Z",
     "shell.execute_reply": "2025-06-30T22:42:03.053856Z",
     "shell.execute_reply.started": "2025-06-30T22:42:00.327021Z"
    }
   },
   "outputs": [],
   "source": [
    "#!/usr/bin/env python3\n",
    "# -*- coding: utf-8 -*-\n",
    "\"\"\"\n",
    "Created on Thu Jan 30 07:34:26 2025\n",
    "\n",
    "@author: mohamedr\n",
    "\"\"\"\n",
    "\n",
    "import scipy.sparse as sp\n",
    "import numpy as np\n",
    "\n",
    "from torch_geometric.data import Data\n",
    "import torch\n",
    "from torch_geometric.utils import dense_to_sparse\n",
    "from sklearn.preprocessing import StandardScaler\n",
    "from sklearn.base import TransformerMixin,BaseEstimator\n",
    "\n",
    "\n",
    "def normalize_adj(adj):\n",
    "    \"\"\"Symmetrically normalize adjacency matrix.\"\"\"\n",
    "    adj = (adj - adj.min())/(adj.max() - adj.min())\n",
    "    adj = sp.coo_matrix(adj)\n",
    "    rowsum = np.array(adj.sum(1)) # D\n",
    "    d_inv_sqrt = np.power(rowsum, -0.5).flatten() # D^-0.5\n",
    "    d_inv_sqrt[np.isinf(d_inv_sqrt)] = 0.\n",
    "    d_mat_inv_sqrt = sp.diags(d_inv_sqrt) # D^-0.5\n",
    "    return adj.dot(d_mat_inv_sqrt).transpose().dot(d_mat_inv_sqrt).tocoo() # D^-0.5AD^0.5\n",
    "\n",
    "def preprocess_adj(adj):\n",
    "    \"\"\"Preprocessing of adjacency matrix for simple GCN model \n",
    "    and conversion to tuple representation.\"\"\"\n",
    "    adj_normalized = normalize_adj(adj + sp.eye(adj.shape[0])).toarray()\n",
    "    return adj_normalized\n",
    "\n",
    "def normalize_all_adj(graphs):\n",
    "    for graph_idx in range(graphs.shape[0]):\n",
    "        for band_idx in range(graphs.shape[-1]):\n",
    "            graphs[graph_idx, :, :, band_idx] = preprocess_adj(graphs[graph_idx, :, :, band_idx])\n",
    "    return graphs\n",
    "\n",
    "\n",
    "def build_pyg_dl(x, a, y, time_points, device):\n",
    "    \"\"\"Convert features and adjacency to PyTorch Geometric Dataloader\"\"\"\n",
    "    a = torch.from_numpy(a)\n",
    "    a = a + 1e-10 \n",
    "    edge_attr = []\n",
    "    \n",
    "    for edge_time_idx in range(time_points):\n",
    "        Af = a[edge_time_idx, :, :]\n",
    "        Af.fill_diagonal_(1)\n",
    "        edge_index, attrf = dense_to_sparse(Af)\n",
    "        edge_attr.append(attrf)\n",
    "    \n",
    "    edge_attr = torch.stack(edge_attr)\n",
    "    edge_attr = torch.moveaxis(edge_attr, 0, 1).to(device)\n",
    "    edge_index = edge_index.to(device)\n",
    "    x = torch.from_numpy(x).to(device)\n",
    "    y = torch.tensor([y], dtype=torch.float).to(device)\n",
    "    data = Data(x=x, edge_index=edge_index, \n",
    "                edge_attr=edge_attr, \n",
    "                y=y)\n",
    "    return data\n",
    "\n",
    "\n",
    "#https://stackoverflow.com/questions/50125844/how-to-standard-scale-a-3d-matrix\n",
    "class StandardScaler3D(BaseEstimator,TransformerMixin):\n",
    "    #batch, sequence, channels\n",
    "    def __init__(self):\n",
    "        self.scaler = StandardScaler()\n",
    "\n",
    "    def fit(self,X,y=None):\n",
    "        X = X.reshape(-1, X.shape[1]*X.shape[3])\n",
    "        self.scaler.fit(X)\n",
    "        return self\n",
    "\n",
    "    def transform(self,X):\n",
    "        return self.scaler.transform(X.reshape(-1, X.shape[1]*X.shape[3])).reshape(X.shape)\n",
    "        \n",
    "def std_data(train_X, val_X):\n",
    "    scaler = StandardScaler3D()\n",
    "    train_X = scaler.fit_transform(train_X)\n",
    "    val_X = scaler.transform(val_X)\n",
    "    return train_X, val_X\n",
    "\n",
    "\n",
    "def fill_diag(x):\n",
    "    num_channels = x.shape[1]\n",
    "    num_bands = x.shape[0]\n",
    "    x_diag = np.zeros((num_bands, num_channels, num_channels))\n",
    "    for band_idx, band in enumerate(x):\n",
    "        for idx, i in enumerate(band):\n",
    "            x_diag[band_idx, idx, idx] = 0\n",
    "            if idx == 0:\n",
    "                x_diag[band_idx, idx, 1:] = i\n",
    "            elif idx > 0 and idx < num_channels-1:\n",
    "                x_diag[band_idx, idx, idx+1:] = i[idx:]\n",
    "                x_diag[band_idx, idx, :idx] = i[:idx]\n",
    "            elif idx == num_channels-1:\n",
    "                x_diag[band_idx, idx, :-1] = i\n",
    "    return x_diag\n",
    "\n",
    "\n",
    "import torch, gc\n",
    "from torch_geometric.loader import DataLoader\n",
    "import random\n",
    "from sklearn.model_selection import KFold    \n",
    "from sklearn.preprocessing import OneHotEncoder\n",
    "\n",
    "\n",
    "def loaders(train_X, train_graphs, train_y, test_X, test_graphs, test_y, device, batch_size, num_windows):\n",
    "    #ohe\n",
    "    ohe = OneHotEncoder()\n",
    "    train_y_ohe = ohe.fit_transform(train_y).toarray()\n",
    "    test_y_ohe = ohe.transform(test_y).toarray()\n",
    "    \n",
    "    # build pyg dataloader\n",
    "    train_dataset = [build_pyg_dl(x, g, y, num_windows, device) for x, g, y in zip(train_X, train_graphs, train_y_ohe)]\n",
    "    test_dataset = [build_pyg_dl(x, g, y, num_windows, device) for x, g, y in zip(test_X, test_graphs, test_y_ohe)]\n",
    "    train_iter = DataLoader(train_dataset, batch_size=batch_size, shuffle=True)\n",
    "    test_iter = DataLoader(test_dataset, batch_size=batch_size, shuffle=False)\n",
    "\n",
    "    return train_iter, test_iter"
   ]
  },
  {
   "cell_type": "code",
   "execution_count": 37,
   "metadata": {
    "execution": {
     "iopub.execute_input": "2025-06-28T23:46:03.839338Z",
     "iopub.status.busy": "2025-06-28T23:46:03.838617Z",
     "iopub.status.idle": "2025-06-28T23:46:09.682223Z",
     "shell.execute_reply": "2025-06-28T23:46:09.681334Z",
     "shell.execute_reply.started": "2025-06-28T23:46:03.839308Z"
    }
   },
   "outputs": [],
   "source": [
    "\n"
   ]
  },
  {
   "cell_type": "code",
   "execution_count": 3,
   "metadata": {
    "execution": {
     "iopub.execute_input": "2025-06-30T22:42:03.863693Z",
     "iopub.status.busy": "2025-06-30T22:42:03.863181Z",
     "iopub.status.idle": "2025-06-30T22:42:03.890156Z",
     "shell.execute_reply": "2025-06-30T22:42:03.889584Z",
     "shell.execute_reply.started": "2025-06-30T22:42:03.863671Z"
    }
   },
   "outputs": [],
   "source": [
    "import torch\n",
    "#from .temporalgcn import TGCN\n",
    "#from .temporalgcn import TGCN2\n",
    "from torch_geometric.nn import GCNConv\n",
    "from torch_geometric_temporal.nn.recurrent import TGCN\n",
    "\n",
    "\n",
    "class A3TGCN(torch.nn.Module):\n",
    "    r\"\"\"An implementation of the Attention Temporal Graph Convolutional Cell.\n",
    "    For details see this paper: `\"A3T-GCN: Attention Temporal Graph Convolutional\n",
    "    Network for Traffic Forecasting.\" <https://arxiv.org/abs/2006.11583>`_\n",
    "\n",
    "    Args:\n",
    "        in_channels (int): Number of input features.\n",
    "        out_channels (int): Number of output features.\n",
    "        periods (int): Number of time periods.\n",
    "        improved (bool): Stronger self loops (default :obj:`False`).\n",
    "        cached (bool): Caching the message weights (default :obj:`False`).\n",
    "        add_self_loops (bool): Adding self-loops for smoothing (default :obj:`True`).\n",
    "    \"\"\"\n",
    "\n",
    "    def __init__(\n",
    "        self,\n",
    "        in_channels: int,\n",
    "        out_channels: int,\n",
    "        periods: int,\n",
    "        improved: bool = False,\n",
    "        cached: bool = False,\n",
    "        add_self_loops: bool = True\n",
    "    ):\n",
    "        super(A3TGCN, self).__init__()\n",
    "\n",
    "        self.in_channels = in_channels\n",
    "        self.out_channels = out_channels\n",
    "        self.periods = periods\n",
    "        self.improved = improved\n",
    "        self.cached = cached\n",
    "        self.add_self_loops = add_self_loops\n",
    "        self._setup_layers()\n",
    "\n",
    "    def _setup_layers(self):\n",
    "        self._base_tgcn = TGCN(\n",
    "            in_channels=self.in_channels,\n",
    "            out_channels=self.out_channels,\n",
    "            improved=self.improved,\n",
    "            cached=self.cached,\n",
    "            add_self_loops=self.add_self_loops,\n",
    "        )\n",
    "        device = torch.device('cuda' if torch.cuda.is_available() else 'cpu')\n",
    "        self._attention = torch.nn.Parameter(torch.empty(self.periods, device=device))\n",
    "        torch.nn.init.uniform_(self._attention)\n",
    "\n",
    "    def forward(\n",
    "        self,\n",
    "        X: torch.FloatTensor,\n",
    "        edge_index: torch.LongTensor,\n",
    "        edge_weight: torch.FloatTensor = None,\n",
    "        H: torch.FloatTensor = None,\n",
    "    ) -> torch.FloatTensor:\n",
    "        \"\"\"\n",
    "        Making a forward pass. If edge weights are not present the forward pass\n",
    "        defaults to an unweighted graph. If the hidden state matrix is not present\n",
    "        when the forward pass is called it is initialized with zeros.\n",
    "\n",
    "        Arg types:\n",
    "            * **X** (PyTorch Float Tensor): Node features for T time periods.\n",
    "            * **edge_index** (PyTorch Long Tensor): Graph edge indices.\n",
    "            * **edge_weight** (PyTorch Long Tensor, optional)*: Edge weight vector.\n",
    "            * **H** (PyTorch Float Tensor, optional): Hidden state matrix for all nodes.\n",
    "\n",
    "        Return types:\n",
    "            * **H** (PyTorch Float Tensor): Hidden state matrix for all nodes.\n",
    "        \"\"\"\n",
    "        H_accum = 0\n",
    "        probs = torch.nn.functional.softmax(self._attention, dim=0)\n",
    "        for period in range(self.periods):\n",
    "            Xt = X[:, period, :]\n",
    "            edge_weight_t = edge_weight[:, period]\n",
    "            H_accum = H_accum + probs[period] * self._base_tgcn(Xt, edge_index, edge_weight_t, H)\n",
    "            \n",
    "        return H_accum"
   ]
  },
  {
   "cell_type": "code",
   "execution_count": 4,
   "metadata": {
    "execution": {
     "iopub.execute_input": "2025-06-30T22:42:07.015158Z",
     "iopub.status.busy": "2025-06-30T22:42:07.014853Z",
     "iopub.status.idle": "2025-06-30T22:42:07.027821Z",
     "shell.execute_reply": "2025-06-30T22:42:07.026846Z",
     "shell.execute_reply.started": "2025-06-30T22:42:07.015137Z"
    }
   },
   "outputs": [],
   "source": [
    "import torch\n",
    "from torch_geometric.nn import GCNConv\n",
    "\n",
    "\n",
    "class TGCN(torch.nn.Module):\n",
    "    r\"\"\"An implementation of the Temporal Graph Convolutional Gated Recurrent Cell.\n",
    "    For details see this paper: `\"T-GCN: A Temporal Graph ConvolutionalNetwork for\n",
    "    Traffic Prediction.\" <https://arxiv.org/abs/1811.05320>`_\n",
    "\n",
    "    Args:\n",
    "        in_channels (int): Number of input features.\n",
    "        out_channels (int): Number of output features.\n",
    "        improved (bool): Stronger self loops. Default is False.\n",
    "        cached (bool): Caching the message weights. Default is False.\n",
    "        add_self_loops (bool): Adding self-loops for smoothing. Default is True.\n",
    "    \"\"\"\n",
    "\n",
    "    def __init__(\n",
    "        self,\n",
    "        in_channels: int,\n",
    "        out_channels: int,\n",
    "        improved: bool = False,\n",
    "        cached: bool = False,\n",
    "        add_self_loops: bool = True,\n",
    "    ):\n",
    "        super(TGCN, self).__init__()\n",
    "\n",
    "        self.in_channels = in_channels\n",
    "        self.out_channels = out_channels\n",
    "        self.improved = improved\n",
    "        self.cached = cached\n",
    "        self.add_self_loops = add_self_loops\n",
    "\n",
    "        self._create_parameters_and_layers()\n",
    "\n",
    "    def _create_update_gate_parameters_and_layers(self):\n",
    "\n",
    "        self.conv_z = GCNConv(\n",
    "            in_channels=self.in_channels,\n",
    "            out_channels=self.out_channels,\n",
    "            improved=self.improved,\n",
    "            cached=self.cached,\n",
    "            add_self_loops=self.add_self_loops,\n",
    "        )\n",
    "\n",
    "        self.linear_z = torch.nn.Linear(2 * self.out_channels, self.out_channels)\n",
    "\n",
    "    def _create_reset_gate_parameters_and_layers(self):\n",
    "\n",
    "        self.conv_r = GCNConv(\n",
    "            in_channels=self.in_channels,\n",
    "            out_channels=self.out_channels,\n",
    "            improved=self.improved,\n",
    "            cached=self.cached,\n",
    "            add_self_loops=self.add_self_loops,\n",
    "        )\n",
    "\n",
    "        self.linear_r = torch.nn.Linear(2 * self.out_channels, self.out_channels)\n",
    "\n",
    "    def _create_candidate_state_parameters_and_layers(self):\n",
    "\n",
    "        self.conv_h = GCNConv(\n",
    "            in_channels=self.in_channels,\n",
    "            out_channels=self.out_channels,\n",
    "            improved=self.improved,\n",
    "            cached=self.cached,\n",
    "            add_self_loops=self.add_self_loops,\n",
    "        )\n",
    "\n",
    "        self.linear_h = torch.nn.Linear(2 * self.out_channels, self.out_channels)\n",
    "\n",
    "    def _create_parameters_and_layers(self):\n",
    "        self._create_update_gate_parameters_and_layers()\n",
    "        self._create_reset_gate_parameters_and_layers()\n",
    "        self._create_candidate_state_parameters_and_layers()\n",
    "\n",
    "    def _set_hidden_state(self, X, H):\n",
    "        if H is None:\n",
    "            H = torch.zeros(X.shape[0], self.out_channels).to(X.device)\n",
    "        return H\n",
    "\n",
    "    def _calculate_update_gate(self, X, edge_index, edge_weight, H):\n",
    "        Z = torch.cat([self.conv_z(X, edge_index, edge_weight), H], axis=1)\n",
    "        Z = self.linear_z(Z)\n",
    "        Z = torch.sigmoid(Z)\n",
    "        return Z\n",
    "\n",
    "    def _calculate_reset_gate(self, X, edge_index, edge_weight, H):\n",
    "        R = torch.cat([self.conv_r(X, edge_index, edge_weight), H], axis=1)\n",
    "        R = self.linear_r(R)\n",
    "        R = torch.sigmoid(R)\n",
    "        return R\n",
    "\n",
    "    def _calculate_candidate_state(self, X, edge_index, edge_weight, H, R):\n",
    "        H_tilde = torch.cat([self.conv_h(X, edge_index, edge_weight), H * R], axis=1)\n",
    "        H_tilde = self.linear_h(H_tilde)\n",
    "        H_tilde = torch.tanh(H_tilde)\n",
    "        return H_tilde\n",
    "\n",
    "    def _calculate_hidden_state(self, Z, H, H_tilde):\n",
    "        H = Z * H + (1 - Z) * H_tilde\n",
    "        return H\n",
    "\n",
    "    def forward(\n",
    "        self,\n",
    "        X: torch.FloatTensor,\n",
    "        edge_index: torch.LongTensor,\n",
    "        edge_weight: torch.FloatTensor = None,\n",
    "        H: torch.FloatTensor = None,\n",
    "    ) -> torch.FloatTensor:\n",
    "        \"\"\"\n",
    "        Making a forward pass. If edge weights are not present the forward pass\n",
    "        defaults to an unweighted graph. If the hidden state matrix is not present\n",
    "        when the forward pass is called it is initialized with zeros.\n",
    "\n",
    "        Arg types:\n",
    "            * **X** *(PyTorch Float Tensor)* - Node features.\n",
    "            * **edge_index** *(PyTorch Long Tensor)* - Graph edge indices.\n",
    "            * **edge_weight** *(PyTorch Long Tensor, optional)* - Edge weight vector.\n",
    "            * **H** *(PyTorch Float Tensor, optional)* - Hidden state matrix for all nodes.\n",
    "\n",
    "        Return types:\n",
    "            * **H** *(PyTorch Float Tensor)* - Hidden state matrix for all nodes.\n",
    "        \"\"\"\n",
    "        H = self._set_hidden_state(X, H)\n",
    "        Z = self._calculate_update_gate(X, edge_index, edge_weight, H)\n",
    "        R = self._calculate_reset_gate(X, edge_index, edge_weight, H)\n",
    "        H_tilde = self._calculate_candidate_state(X, edge_index, edge_weight, H, R)\n",
    "        H = self._calculate_hidden_state(Z, H, H_tilde)\n",
    "        return H\n"
   ]
  },
  {
   "cell_type": "code",
   "execution_count": 5,
   "metadata": {
    "execution": {
     "iopub.execute_input": "2025-06-30T22:42:10.471955Z",
     "iopub.status.busy": "2025-06-30T22:42:10.471651Z",
     "iopub.status.idle": "2025-06-30T22:42:10.484208Z",
     "shell.execute_reply": "2025-06-30T22:42:10.483608Z",
     "shell.execute_reply.started": "2025-06-30T22:42:10.471932Z"
    }
   },
   "outputs": [],
   "source": [
    "# Temporal operators......etc.\n",
    "from torch_geometric.nn import GCNConv, GATConv, ChebConv, TransformerConv, GINConv, SGConv, GeneralConv, SAGEConv\n",
    "from torch_geometric_temporal.nn.recurrent import DCRNN, GConvGRU, GConvLSTM, GCLSTM\n",
    "from torch_geometric.nn import global_mean_pool\n",
    "import torch.nn as nn\n",
    "\n",
    "\n",
    "class GraphTemporal(nn.Module):\n",
    "    def __init__(self, num_ch, num_t, op):\n",
    "        super(GraphTemporal, self).__init__()\n",
    "        self.lstm = nn.LSTM(input_size=32, hidden_size=10, num_layers=1, bidirectional=True, batch_first=True)\n",
    "        self.linear = nn.Linear(32, 2)\n",
    "        self.BN2 = nn.BatchNorm1d(56)\n",
    "        self.BN1 = nn.BatchNorm1d(19)\n",
    "        \n",
    "        self.conv1 = nn.Conv2d(num_ch, num_ch, (3, 3), stride=(1, 2), padding=(1, 0), dilation=(1, 3))\n",
    "        self.conv2 = nn.Conv2d(num_ch, num_ch, (3, 5), stride=(1, 2), padding=(1, 1), dilation=(1, 3))\n",
    "        self.conv3 = nn.Conv2d(num_ch, num_ch, (3, 10), stride=(1, 2), padding=(1, 3), dilation=(1, 3))\n",
    "        \n",
    "        self.maxpool = nn.MaxPool2d((1, 5))\n",
    "        self.relu = nn.ReLU()\n",
    "        \n",
    "        if op==\"GCLSTM\":\n",
    "            self.GraphOp = GCLSTM(in_channels=56, out_channels=32, K=2)\n",
    "        elif op==\"GConvLSTM\":\n",
    "            self.GraphOp = GConvLSTM(in_channels=56, out_channels=32, K=2)\n",
    "        elif op==\"A3TGCN\":\n",
    "            self.GraphOp = A3TGCN(in_channels=56, out_channels=32, periods=60)\n",
    "        elif op==\"TGCN\":\n",
    "            self.GraphOp = TGCN(in_channels=56, out_channels=32)\n",
    "        elif op==\"DCRNN\":\n",
    "            self.GraphOp = DCRNN(in_channels=56, out_channels=32, K=2)\n",
    "        elif op==\"GConvGRU\":\n",
    "            self.GraphOp = GConvGRU(in_channels=56, out_channels=32, K=2)\n",
    "            \n",
    "        self.num_ch = num_ch\n",
    "        self.num_t = num_t\n",
    "        self.op = op\n",
    "        #device = torch.device('cuda' if torch.cuda.is_available() else 'cpu')\n",
    "        #self._attention = torch.nn.Parameter(torch.empty(self.num_t, device=device))\n",
    "        #torch.nn.init.uniform_(self._attention)\n",
    "\n",
    "    \n",
    "    def forward(self, x, idx, attr, batch=False):\n",
    "        batch_size = int(x.shape[0]/self.num_ch)\n",
    "        \n",
    "        x = x.reshape(batch_size, self.num_ch, x.shape[-2], x.shape[-1])\n",
    "        x1 = self.conv1(x)\n",
    "        x1 = self.relu(x1)\n",
    "        x2 = self.conv2(x)\n",
    "        x2 = self.relu(x2)\n",
    "        x3 = self.conv3(x)\n",
    "        x3 = self.relu(x3)\n",
    "        x = torch.cat([x1, x2, x3], dim=-1)\n",
    "        \n",
    "        x = self.maxpool(x)\n",
    "        #x = x.permute(0, 1, 3, 2)\n",
    "        x = x.reshape(x.shape[0]*x.shape[1], x.shape[2], x.shape[3])\n",
    "\n",
    "        x = x.permute(0, 2, 1)\n",
    "        x = self.BN2(x)\n",
    "        x = x.permute(0, 2, 1)\n",
    "        if self.op == \"A3TGCN\":\n",
    "            HS = self.GraphOp(x, idx, attr)\n",
    "        else:\n",
    "            for t_idx in range(self.num_t):\n",
    "                attr_t = attr[:, t_idx]\n",
    "                x_t = x[:, t_idx]\n",
    "                if t_idx == 0:\n",
    "                    HS = self.GraphOp(x_t, idx, attr_t)\n",
    "                else:\n",
    "                    #HS = HS + probs[t_idx]*self.GraphOp(x_t, idx, attr_t, HS)\n",
    "                    HS = self.GraphOp(x_t, idx, attr_t, HS)\n",
    "                if type(HS) == tuple:\n",
    "                    HS = HS[0]\n",
    "        out = self.relu(HS)\n",
    "        out = global_mean_pool(out, batch)\n",
    "        out = self.linear(out)\n",
    "        return out\n"
   ]
  },
  {
   "cell_type": "code",
   "execution_count": 18,
   "metadata": {
    "execution": {
     "iopub.execute_input": "2025-06-30T23:00:13.304577Z",
     "iopub.status.busy": "2025-06-30T23:00:13.304252Z",
     "iopub.status.idle": "2025-06-30T23:00:13.313409Z",
     "shell.execute_reply": "2025-06-30T23:00:13.312695Z",
     "shell.execute_reply.started": "2025-06-30T23:00:13.304555Z"
    }
   },
   "outputs": [],
   "source": [
    "from sklearn.metrics import accuracy_score, confusion_matrix, f1_score, precision_score, recall_score, auc, roc_auc_score\n",
    "from tqdm import tqdm\n",
    "import torch\n",
    "import numpy as np\n",
    "\n",
    "\n",
    "def print_acc(model, data_iter):\n",
    "    outs= []\n",
    "    ys = []\n",
    "    \n",
    "    model.eval()\n",
    "    with torch.no_grad():\n",
    "        for batch in data_iter:\n",
    "            x = batch.x.float()\n",
    "            idx = batch.edge_index.long()\n",
    "            attr = batch.edge_attr.float()\n",
    "            y = batch.y\n",
    "            batch = batch.batch\n",
    "            y = torch.argmax(y, -1)\n",
    "            out = model(x, idx, attr, batch)\n",
    "            out = torch.exp(out)\n",
    "            outs.extend(out.cpu().detach().numpy())\n",
    "            ys.extend(y.cpu().detach().numpy())\n",
    "    \n",
    "    outs = np.array(outs)\n",
    "    ys = np.array(ys)\n",
    "    outs = np.argmax(outs, -1)\n",
    "\n",
    "    metrics = [accuracy_score(outs, ys), f1_score(outs, ys), \n",
    "               precision_score(outs, ys), recall_score(outs, ys)]\n",
    "    return metrics\n",
    "\n",
    "    \n",
    "def train_model(model, num_epochs, data_iter, val_iter=None, weight=None):\n",
    "    criterion = torch.nn.CrossEntropyLoss(weight = weight)\n",
    "    optimizer = torch.optim.AdamW(model.parameters(),lr=1e-3)\n",
    "\n",
    "    model.train()\n",
    "    for epoch in tqdm(range(num_epochs)): \n",
    "        model.train()\n",
    "        losses = 0\n",
    "        for _, batch in enumerate(data_iter):\n",
    "            x = batch.x.float()\n",
    "            idx = batch.edge_index.long()\n",
    "            attr = batch.edge_attr.float()\n",
    "            y = batch.y\n",
    "            batch = batch.batch\n",
    "            y = torch.argmax(y, -1)\n",
    "            optimizer.zero_grad()\n",
    "            out = model(x, idx, attr, batch)\n",
    "            loss = criterion(out, y)\n",
    "            loss.backward()\n",
    "            optimizer.step()\n",
    "            losses += loss.item() \n",
    "\n",
    "    return model            "
   ]
  },
  {
   "cell_type": "code",
   "execution_count": 23,
   "metadata": {
    "execution": {
     "iopub.execute_input": "2025-06-30T23:51:43.323852Z",
     "iopub.status.busy": "2025-06-30T23:51:43.323240Z",
     "iopub.status.idle": "2025-07-01T02:23:02.529193Z",
     "shell.execute_reply": "2025-07-01T02:23:02.528241Z",
     "shell.execute_reply.started": "2025-06-30T23:51:43.323830Z"
    }
   },
   "outputs": [
    {
     "name": "stderr",
     "output_type": "stream",
     "text": [
      "100%|██████████| 15/15 [04:24<00:00, 17.65s/it]\n",
      "100%|██████████| 15/15 [04:28<00:00, 17.90s/it]\n",
      "100%|██████████| 15/15 [04:27<00:00, 17.84s/it]\n",
      "100%|██████████| 15/15 [04:26<00:00, 17.80s/it]\n",
      "100%|██████████| 15/15 [04:27<00:00, 17.82s/it]\n",
      "100%|██████████| 15/15 [06:27<00:00, 25.80s/it]\n",
      "100%|██████████| 15/15 [06:27<00:00, 25.83s/it]\n",
      "100%|██████████| 15/15 [06:26<00:00, 25.77s/it]\n",
      "100%|██████████| 15/15 [06:26<00:00, 25.74s/it]\n",
      "100%|██████████| 15/15 [06:25<00:00, 25.71s/it]\n",
      "100%|██████████| 15/15 [04:15<00:00, 17.05s/it]\n",
      "100%|██████████| 15/15 [04:15<00:00, 17.03s/it]\n",
      "100%|██████████| 15/15 [04:15<00:00, 17.01s/it]\n",
      "100%|██████████| 15/15 [04:15<00:00, 17.04s/it]\n",
      "100%|██████████| 15/15 [04:17<00:00, 17.15s/it]\n",
      "100%|██████████| 15/15 [06:34<00:00, 26.29s/it]\n",
      "100%|██████████| 15/15 [06:34<00:00, 26.29s/it]\n",
      "100%|██████████| 15/15 [06:35<00:00, 26.35s/it]\n",
      "100%|██████████| 15/15 [06:34<00:00, 26.32s/it]\n",
      "100%|██████████| 15/15 [06:34<00:00, 26.33s/it]\n",
      "100%|██████████| 15/15 [08:21<00:00, 33.45s/it]\n",
      "100%|██████████| 15/15 [08:20<00:00, 33.39s/it]\n",
      "100%|██████████| 15/15 [08:22<00:00, 33.51s/it]\n",
      "100%|██████████| 15/15 [08:21<00:00, 33.45s/it]\n",
      "100%|██████████| 15/15 [08:19<00:00, 33.33s/it]\n"
     ]
    }
   ],
   "source": [
    "train_X, train_graphs, train_y, test_X, test_graphs, test_y = stratify_train_test_split(conn=\"coh\")\n",
    "train_iter, test_iter = loaders(train_X, train_graphs, train_y, test_X, test_graphs, test_y, DEVICE, BATCH_SIZE, NUM_WINDOWS)\n",
    "num_epochs = 15\n",
    "results = []\n",
    "gt_operators = [\"A3TGCN\", \"GCLSTM\", \"TGCN\", \"DCRNN\", \"GConvGRU\"]\n",
    "for op in gt_operators:\n",
    "    for i in range(5):\n",
    "        model = GraphTemporal(num_ch=19, num_t=60, op=op).to(DEVICE)\n",
    "        class_weight = torch.tensor([6., 1.]).to(DEVICE)\n",
    "        model = train_model(model, num_epochs, train_iter, weight=class_weight)\n",
    "        test_res = print_acc(model, test_iter)\n",
    "        results.append(test_res)"
   ]
  },
  {
   "cell_type": "code",
   "execution_count": 25,
   "metadata": {
    "execution": {
     "iopub.execute_input": "2025-07-01T02:23:24.049266Z",
     "iopub.status.busy": "2025-07-01T02:23:24.048991Z",
     "iopub.status.idle": "2025-07-01T02:23:24.055758Z",
     "shell.execute_reply": "2025-07-01T02:23:24.054980Z",
     "shell.execute_reply.started": "2025-07-01T02:23:24.049246Z"
    }
   },
   "outputs": [
    {
     "name": "stdout",
     "output_type": "stream",
     "text": [
      "A3TGCN accuracy 0.8310000000000001 0.018275666882497058\n",
      "A3TGCN f1 0.8940223106786573 0.013635002200660587\n",
      "A3TGCN precision 0.8773006134969326 0.033151548677561475\n",
      "A3TGCN recall 0.9124923519567038 0.012223926917704908\n",
      "GCLSTM accuracy 0.8219999999999998 0.014352700094407285\n",
      "GCLSTM f1 0.8924432268120622 0.009387066549634391\n",
      "GCLSTM precision 0.9067484662576687 0.020677668155034017\n",
      "GCLSTM recall 0.8790191748351315 0.012475334365817855\n",
      "TGCN accuracy 0.7699999999999999 0.020000000000000018\n",
      "TGCN f1 0.8534204574004705 0.017880748616214043\n",
      "TGCN precision 0.8257668711656441 0.04840020349280006\n",
      "TGCN recall 0.885858459142989 0.0197238166351186\n",
      "DCRNN accuracy 0.825 0.012649110640673502\n",
      "DCRNN f1 0.8934275327767482 0.008328499393054503\n",
      "DCRNN precision 0.9006134969325152 0.01993629056352384\n",
      "DCRNN recall 0.8868208651756936 0.012751590671834944\n",
      "GConvGRU accuracy 0.827 0.031080540535840095\n",
      "GConvGRU f1 0.8939095275765532 0.020632578849823335\n",
      "GConvGRU precision 0.8969325153374234 0.03627422208366744\n",
      "GConvGRU recall 0.8918493585715694 0.01813515998592222\n"
     ]
    }
   ],
   "source": [
    "acc = [\"accuracy\", \"f1\", \"precision\", \"recall\"]\n",
    "results = np.array(results).reshape(5, 5, 4)\n",
    "for idx, res in enumerate(results):\n",
    "    mean = np.mean(res, axis=0)\n",
    "    std = np.std(res, axis=0)\n",
    "    for mi, _ in enumerate(mean):\n",
    "        print(gt_operators[idx], acc[mi], mean[mi], std[mi])"
   ]
  },
  {
   "cell_type": "code",
   "execution_count": 27,
   "metadata": {
    "execution": {
     "iopub.execute_input": "2025-07-01T02:26:05.044150Z",
     "iopub.status.busy": "2025-07-01T02:26:05.043590Z",
     "iopub.status.idle": "2025-07-01T04:57:48.211170Z",
     "shell.execute_reply": "2025-07-01T04:57:48.210282Z",
     "shell.execute_reply.started": "2025-07-01T02:26:05.044131Z"
    }
   },
   "outputs": [
    {
     "name": "stderr",
     "output_type": "stream",
     "text": [
      "100%|██████████| 15/15 [04:27<00:00, 17.83s/it]\n",
      "100%|██████████| 15/15 [04:27<00:00, 17.84s/it]\n",
      "100%|██████████| 15/15 [04:27<00:00, 17.82s/it]\n",
      "100%|██████████| 15/15 [04:26<00:00, 17.78s/it]\n",
      "100%|██████████| 15/15 [04:27<00:00, 17.82s/it]\n",
      "100%|██████████| 15/15 [06:26<00:00, 25.74s/it]\n",
      "100%|██████████| 15/15 [06:26<00:00, 25.78s/it]\n",
      "100%|██████████| 15/15 [06:25<00:00, 25.72s/it]\n",
      "100%|██████████| 15/15 [06:26<00:00, 25.77s/it]\n",
      "100%|██████████| 15/15 [06:25<00:00, 25.71s/it]\n",
      "100%|██████████| 15/15 [04:15<00:00, 17.04s/it]\n",
      "100%|██████████| 15/15 [04:15<00:00, 17.00s/it]\n",
      "100%|██████████| 15/15 [04:15<00:00, 17.03s/it]\n",
      "100%|██████████| 15/15 [04:15<00:00, 17.03s/it]\n",
      "100%|██████████| 15/15 [04:15<00:00, 17.02s/it]\n",
      "100%|██████████| 15/15 [06:35<00:00, 26.35s/it]\n",
      "100%|██████████| 15/15 [06:35<00:00, 26.36s/it]\n",
      "100%|██████████| 15/15 [06:35<00:00, 26.35s/it]\n",
      "100%|██████████| 15/15 [06:35<00:00, 26.38s/it]\n",
      "100%|██████████| 15/15 [06:35<00:00, 26.38s/it]\n",
      "100%|██████████| 15/15 [08:22<00:00, 33.49s/it]\n",
      "100%|██████████| 15/15 [08:22<00:00, 33.47s/it]\n",
      "100%|██████████| 15/15 [08:23<00:00, 33.58s/it]\n",
      "100%|██████████| 15/15 [08:22<00:00, 33.52s/it]\n",
      "100%|██████████| 15/15 [08:23<00:00, 33.53s/it]\n"
     ]
    }
   ],
   "source": [
    "train_X, train_graphs, train_y, test_X, test_graphs, test_y = stratify_train_test_split(conn=\"plv\")\n",
    "train_iter, test_iter = loaders(train_X, train_graphs, train_y, test_X, test_graphs, test_y, DEVICE, BATCH_SIZE, NUM_WINDOWS)\n",
    "num_epochs = 15\n",
    "results = []\n",
    "gt_operators = [\"A3TGCN\", \"GCLSTM\", \"TGCN\", \"DCRNN\", \"GConvGRU\"]\n",
    "for op in gt_operators:\n",
    "    for i in range(5):\n",
    "        model = GraphTemporal(num_ch=19, num_t=60, op=op).to(DEVICE)\n",
    "        class_weight = torch.tensor([6., 1.]).to(DEVICE)\n",
    "        model = train_model(model, num_epochs, train_iter, weight=class_weight)\n",
    "        test_res = print_acc(model, test_iter)\n",
    "        results.append(test_res)"
   ]
  },
  {
   "cell_type": "code",
   "execution_count": 28,
   "metadata": {
    "execution": {
     "iopub.execute_input": "2025-07-01T04:58:30.750176Z",
     "iopub.status.busy": "2025-07-01T04:58:30.749495Z",
     "iopub.status.idle": "2025-07-01T04:58:30.756147Z",
     "shell.execute_reply": "2025-07-01T04:58:30.755526Z",
     "shell.execute_reply.started": "2025-07-01T04:58:30.750152Z"
    }
   },
   "outputs": [
    {
     "name": "stdout",
     "output_type": "stream",
     "text": [
      "A3TGCN accuracy 0.841 0.03397057550292605\n",
      "A3TGCN f1 0.9010422546661955 0.023190321855283184\n",
      "A3TGCN precision 0.8932515337423312 0.04434186748366292\n",
      "A3TGCN recall 0.910235590116463 0.013803056648968236\n",
      "GCLSTM accuracy 0.795 0.04037325847637269\n",
      "GCLSTM f1 0.8735125551001428 0.02496005602656005\n",
      "GCLSTM precision 0.8687116564417178 0.026487157233034263\n",
      "GCLSTM recall 0.8784732497384239 0.02524086474680049\n",
      "TGCN accuracy 0.8029999999999999 0.03655133376499412\n",
      "TGCN f1 0.8787379606559979 0.02533209137055949\n",
      "TGCN precision 0.8797546012269939 0.04189784313856169\n",
      "TGCN recall 0.8784908973874593 0.01134365889705781\n",
      "DCRNN accuracy 0.8089999999999999 0.03440930106817049\n",
      "DCRNN f1 0.8832796637466943 0.022871347301263997\n",
      "DCRNN precision 0.8895705521472393 0.03721656659657204\n",
      "DCRNN recall 0.8777007855807077 0.0148014094375863\n",
      "GConvGRU accuracy 0.813 0.015999999999999973\n",
      "GConvGRU f1 0.8856538243205841 0.010825143779517439\n",
      "GConvGRU precision 0.8895705521472392 0.02194913352147031\n",
      "GConvGRU recall 0.8821177152318237 0.008538459520636626\n"
     ]
    }
   ],
   "source": [
    "acc = [\"accuracy\", \"f1\", \"precision\", \"recall\"]\n",
    "results = np.array(results).reshape(5, 5, 4)\n",
    "for idx, res in enumerate(results):\n",
    "    mean = np.mean(res, axis=0)\n",
    "    std = np.std(res, axis=0)\n",
    "    for mi, _ in enumerate(mean):\n",
    "        print(gt_operators[idx], acc[mi], mean[mi], std[mi])"
   ]
  }
 ],
 "metadata": {
  "kaggle": {
   "accelerator": "nvidiaTeslaT4",
   "dataSources": [
    {
     "datasetId": 7757230,
     "sourceId": 12318529,
     "sourceType": "datasetVersion"
    }
   ],
   "dockerImageVersionId": 31041,
   "isGpuEnabled": true,
   "isInternetEnabled": true,
   "language": "python",
   "sourceType": "notebook"
  },
  "kernelspec": {
   "display_name": "Python 3 (Spyder)",
   "language": "python3",
   "name": "python3"
  },
  "language_info": {
   "codemirror_mode": {
    "name": "ipython",
    "version": 3
   },
   "file_extension": ".py",
   "mimetype": "text/x-python",
   "name": "python",
   "nbconvert_exporter": "python",
   "pygments_lexer": "ipython3",
   "version": "3.10.16"
  }
 },
 "nbformat": 4,
 "nbformat_minor": 4
}
